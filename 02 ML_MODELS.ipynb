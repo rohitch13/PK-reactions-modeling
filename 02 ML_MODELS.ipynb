{
 "cells": [
  {
   "cell_type": "code",
   "execution_count": null,
   "id": "93604085",
   "metadata": {
    "ExecuteTime": {
     "end_time": "2024-03-03T11:09:28.557085Z",
     "start_time": "2024-03-03T11:09:28.528038Z"
    },
    "tags": []
   },
   "outputs": [],
   "source": [
    "import pandas as pd\n",
    "import numpy as np\n",
    "from imblearn.over_sampling import BorderlineSMOTE, SVMSMOTE, KMeansSMOTE, ADASYN\n",
    "from matplotlib import pyplot as plt\n",
    "import warnings\n",
    "warnings.simplefilter(\"ignore\")\n",
    "from sklearn.ensemble import RandomForestRegressor, RandomForestClassifier\n",
    "from sklearn.metrics import mean_squared_error, accuracy_score, r2_score\n",
    "from hyperopt import fmin, tpe, hp, STATUS_OK, Trials\n",
    "from hyperopt.pyll import scope\n",
    "from hyperopt.pyll.stochastic import sample\n",
    "import math\n",
    "from sklearn.model_selection import GridSearchCV, ParameterGrid, train_test_split, cross_val_score\n",
    "import re\n",
    "import seaborn as sns\n",
    "from scipy.stats import chi2_contingency\n",
    "from subprocess import check_output\n",
    "from joblib.logger import pprint\n",
    "from sklearn.preprocessing import StandardScaler, PolynomialFeatures\n",
    "import xgboost as xgb\n",
    "from xgboost.sklearn import XGBRegressor\n",
    "\n",
    "import lightgbm as lgb\n",
    "\n",
    "%matplotlib inline"
   ]
  },
  {
   "cell_type": "markdown",
   "id": "72ca0ae8",
   "metadata": {},
   "source": [
    "# 1.0 Data load"
   ]
  },
  {
   "cell_type": "code",
   "execution_count": null,
   "id": "391000f9",
   "metadata": {
    "ExecuteTime": {
     "end_time": "2024-03-03T11:09:30.710225Z",
     "start_time": "2024-03-03T11:09:29.725922Z"
    },
    "tags": []
   },
   "outputs": [],
   "source": [
    "all_df=pd.read_excel(\"Datasheet.xlsx\")"
   ]
  },
  {
   "cell_type": "code",
   "execution_count": null,
   "id": "5ff6ee58",
   "metadata": {
    "ExecuteTime": {
     "end_time": "2024-03-03T11:09:31.328929Z",
     "start_time": "2024-03-03T11:09:31.296795Z"
    },
    "tags": []
   },
   "outputs": [],
   "source": [
    "print(all_df.shape)\n",
    "all_df.head(1)"
   ]
  },
  {
   "cell_type": "markdown",
   "id": "aeae8cae",
   "metadata": {},
   "source": [
    "# Functions"
   ]
  },
  {
   "cell_type": "code",
   "execution_count": null,
   "id": "ed0b330d",
   "metadata": {
    "ExecuteTime": {
     "end_time": "2024-03-03T11:09:33.089927Z",
     "start_time": "2024-03-03T11:09:33.076787Z"
    },
    "tags": []
   },
   "outputs": [],
   "source": [
    "def data_preprocess(all_df):\n",
    "    real_df = all_df[~all_df['Ligand'].isin(train_exclude)]\n",
    "    oob_all_df=all_df[all_df['Ligand'].isin(oob_ligands)]\n",
    "    print('Train Ligands:\\n', real_df.Ligand.value_counts())\n",
    "    print('---------------------------------------------------------------')\n",
    "    print('OOB Ligands:\\n', oob_all_df.Ligand.value_counts())\n",
    "    print('---------------------------------------------------------------')\n",
    "    real_df=real_df.iloc[:,3:]\n",
    "    #print(real_df.head(1))\n",
    "    return real_df, oob_all_df"
   ]
  },
  {
   "cell_type": "code",
   "execution_count": null,
   "id": "e0b0b3ba",
   "metadata": {
    "ExecuteTime": {
     "end_time": "2024-03-03T11:09:33.571880Z",
     "start_time": "2024-03-03T11:09:33.558351Z"
    },
    "tags": []
   },
   "outputs": [],
   "source": [
    "def smote_requirement(real_df, oob_all_df, smote_required = True,smote=1):\n",
    "    real_df['class']=np.where(real_df['Output (ee)%']>70,1,0)\n",
    "    print('Real distribution (>70 is 1): \\n', real_df['class'].value_counts())\n",
    "    print('Real dataset: ', real_df.shape)\n",
    "    minority_df=real_df[real_df['class']==0]\n",
    "    X=real_df.iloc[:,:-1]\n",
    "    y=real_df.iloc[:,-1]\n",
    "    if smote_required == True:\n",
    "        if  smote==1:\n",
    "            sm = BorderlineSMOTE(random_state=2, kind = 'borderline-2')\n",
    "            X_res, y_res = sm.fit_resample(X, y)\n",
    "\n",
    "        elif smote==2:\n",
    "            svm = SVMSMOTE(random_state=2)\n",
    "            X_res, y_res = svm.fit_resample(X, y)\n",
    "            \n",
    "        elif smote==3:\n",
    "            \n",
    "            km = KMeansSMOTE(random_state=2)\n",
    "            X_res, y_res = km.fit_resample(X, y)\n",
    "        \n",
    "        elif smote==4:\n",
    "            ada = ADASYN(random_state=2)\n",
    "            X_res, y_res = ada.fit_resample(X, y)\n",
    "        \n",
    "        print('SMOTE distribution (>70 is 1): \\n', y_res.value_counts())\n",
    "        print('SMOTE dataset: ', X_res.shape)\n",
    "        X = X_res\n",
    "        y = y_res\n",
    "    else:\n",
    "        pass\n",
    "    oob_df=oob_all_df.iloc[:,3:]\n",
    "    print('OOB dataset: ', oob_df.shape)\n",
    "    X_oob=oob_df.iloc[:,:-1]\n",
    "    y_oob=oob_df.iloc[:,-1]\n",
    "    return minority_df, X, y, oob_df, X_oob, y_oob\n",
    "\n"
   ]
  },
  {
   "cell_type": "code",
   "execution_count": null,
   "id": "25cdae80",
   "metadata": {
    "ExecuteTime": {
     "end_time": "2024-03-03T11:09:34.174191Z",
     "start_time": "2024-03-03T11:09:34.157143Z"
    },
    "tags": []
   },
   "outputs": [],
   "source": [
    "def data_split_scaling(X, random_state):\n",
    "    X_org=X.iloc[:,:-1]\n",
    "    y_org=X.iloc[:,-1]\n",
    "    X_train, X_test, y_train, y_test = train_test_split(X_org, y_org, test_size=0.2, random_state=random_state)\n",
    "    return X_train, X_test, y_train, y_test"
   ]
  },
  {
   "cell_type": "code",
   "execution_count": null,
   "id": "635f0fdb",
   "metadata": {
    "ExecuteTime": {
     "end_time": "2024-03-03T11:09:34.671109Z",
     "start_time": "2024-03-03T11:09:34.650393Z"
    },
    "tags": []
   },
   "outputs": [],
   "source": [
    "def xgboost_model(X_train, X_test, y_train, y_test,\n",
    "                  parameters_xgb, random_state, cv, early_stop , early_stop_rounds, X_oob , y_oob, oob_all_df ):\n",
    "\n",
    "    xgb1 = XGBRegressor(random_state=random_state)\n",
    "    xgb_grid = GridSearchCV(xgb1,\n",
    "                        parameters_xgb,\n",
    "                        cv = cv,\n",
    "                        n_jobs = -1,\n",
    "                        verbose=True)\n",
    "    if early_stop == True:\n",
    "        xgb_grid.fit(X_train, y_train,  early_stopping_rounds=early_stop_rounds, eval_set=[(X_test, y_test)])\n",
    "    else:\n",
    "        xgb_grid.fit(X_train, y_train)\n",
    "    print('Best model score: ', xgb_grid.best_score_)\n",
    "    print('Best model parameters: ', xgb_grid.best_params_)\n",
    "\n",
    "    prediction_train = xgb_grid.predict(X_train)\n",
    "    # Predict on test data\n",
    "    prediction = xgb_grid.predict(X_test)\n",
    "    # Compute mean squared error\n",
    "    mse_train = mean_squared_error(y_train, prediction_train, squared = False)\n",
    "    mse_test = mean_squared_error(y_test, prediction, squared = False)\n",
    "\n",
    "    print('Train RMSE: ', mse_train)\n",
    "    print('Test RMSE: ', mse_test)\n",
    "    \n",
    "    # Predict on oob data\n",
    "    prediction_oob = xgb_grid.predict(X_oob)\n",
    "    # Compute mean squared error\n",
    "    mse_oob = mean_squared_error(y_oob, prediction_oob, squared = False)\n",
    "    print('OOB RMSE: ', mse_oob)\n",
    "\n",
    "    oob_df_predict = oob_all_df.copy()\n",
    "    oob_df_predict['prediction'] = prediction_oob\n",
    "    \n",
    "    def r2_rmse(g):\n",
    "        r2 = r2_score(g['Output (ee)%'], g['prediction'])\n",
    "        rmse = np.sqrt(mean_squared_error(g['Output (ee)%'], g['prediction'], squared = False))\n",
    "        return pd.Series(dict(rmse = rmse))\n",
    "    \n",
    "    return xgb_grid, mse_train, mse_test, mse_oob, xgb_grid.best_params_, prediction_oob, y_oob "
   ]
  },
  {
   "cell_type": "code",
   "execution_count": null,
   "id": "e9fb830e",
   "metadata": {
    "ExecuteTime": {
     "end_time": "2024-03-03T11:09:35.463388Z",
     "start_time": "2024-03-03T11:09:35.452374Z"
    },
    "tags": []
   },
   "outputs": [],
   "source": [
    "def rf_model(X_train, X_test, y_train, y_test,\n",
    "                  parameters_rf, random_state, cv, early_stop , early_stop_rounds, X_oob , y_oob, oob_all_df ):\n",
    "\n",
    "    rf1 = RandomForestRegressor(random_state=random_state)\n",
    "    rf_grid = GridSearchCV(rf1,\n",
    "                        parameters_rf,\n",
    "                        cv = cv,\n",
    "                        n_jobs = -1,\n",
    "                        verbose=True)\n",
    "    if early_stop == True:\n",
    "        rf_grid.fit(X_train, y_train,  early_stopping_rounds=early_stop_rounds, eval_set=[(X_test, y_test)])\n",
    "    else:\n",
    "        rf_grid.fit(X_train, y_train)\n",
    "    print('Best model score: ', rf_grid.best_score_)\n",
    "    print('Best model parameters: ', rf_grid.best_params_)\n",
    "\n",
    "    prediction_train = rf_grid.predict(X_train)\n",
    "    # Predict on test data\n",
    "    prediction = rf_grid.predict(X_test)\n",
    "    # Compute mean squared error\n",
    "    mse_train = mean_squared_error(y_train, prediction_train, squared = False)\n",
    "    mse_test = mean_squared_error(y_test, prediction, squared = False)\n",
    "\n",
    "    print('Train RMSE: ', mse_train)\n",
    "    print('Test RMSE: ', mse_test)\n",
    "    \n",
    "    # Predict on oob data\n",
    "    prediction_oob = rf_grid.predict(X_oob)\n",
    "    # Compute mean squared error\n",
    "    mse_oob = mean_squared_error(y_oob, prediction_oob, squared = False)\n",
    "    print('OOB RMSE: ', mse_oob)\n",
    "\n",
    "    oob_df_predict = oob_all_df.copy()\n",
    "    oob_df_predict['prediction'] = prediction_oob\n",
    "    \n",
    "    def r2_rmse(g):\n",
    "        r2 = r2_score(g['Output (ee)%'], g['prediction'])\n",
    "        rmse = np.sqrt(mean_squared_error(g['Output (ee)%'], g['prediction'], squared = False))\n",
    "        return pd.Series(dict(rmse = rmse))\n",
    "    \n",
    "    return rf_grid, mse_train, mse_test, mse_oob, rf_grid.best_params_"
   ]
  },
  {
   "cell_type": "code",
   "execution_count": null,
   "id": "2cae4c64",
   "metadata": {
    "ExecuteTime": {
     "end_time": "2024-03-03T11:09:36.381393Z",
     "start_time": "2024-03-03T11:09:36.367211Z"
    },
    "tags": []
   },
   "outputs": [],
   "source": [
    "def lgb_model(X_train, X_test, y_train, y_test,\n",
    "                  parameters_lgb, random_state, cv, early_stop , early_stop_rounds, X_oob , y_oob, oob_all_df ):\n",
    "\n",
    "    lgb1 = lgb.LGBMRegressor(random_state=random_state, verbose=-1)\n",
    "    lgb_grid = GridSearchCV(lgb1,\n",
    "                        parameters_lgb,\n",
    "                        cv = cv,\n",
    "                        n_jobs = -1,\n",
    "                        verbose=True)\n",
    "    if early_stop == True:\n",
    "        lgb_grid.fit(X_train, y_train,  early_stopping_rounds=early_stop_rounds, eval_set=[(X_test, y_test)])\n",
    "    else:\n",
    "        lgb_grid.fit(X_train, y_train)\n",
    "    print('Best model score: ', lgb_grid.best_score_)\n",
    "    print('Best model parameters: ', lgb_grid.best_params_)\n",
    "\n",
    "    prediction_train = lgb_grid.predict(X_train)\n",
    "    # Predict on test data\n",
    "    prediction = lgb_grid.predict(X_test)\n",
    "    # Compute mean squared error\n",
    "    mse_train = mean_squared_error(y_train, prediction_train, squared = False)\n",
    "    mse_test = mean_squared_error(y_test, prediction, squared = False)\n",
    "\n",
    "    print('Train RMSE: ', mse_train)\n",
    "    print('Test RMSE: ', mse_test)\n",
    "    \n",
    "    # Predict on oob data\n",
    "    prediction_oob = lgb_grid.predict(X_oob)\n",
    "    # Compute mean squared error\n",
    "    mse_oob = mean_squared_error(y_oob, prediction_oob, squared = False)\n",
    "    print('OOB RMSE: ', mse_oob)\n",
    "\n",
    "    oob_df_predict = oob_all_df.copy()\n",
    "    oob_df_predict['prediction'] = prediction_oob\n",
    "    \n",
    "    def r2_rmse(g):\n",
    "        r2 = r2_score(g['Output (ee)%'], g['prediction'])\n",
    "        rmse = np.sqrt(mean_squared_error(g['Output (ee)%'], g['prediction'], squared = False))\n",
    "        return pd.Series(dict(rmse = rmse))\n",
    "    \n",
    "\n",
    "    #print('OOB RMSE at Ligand level: \\n', oob_df_predict.groupby('Ligand').apply(r2_rmse).reset_index())\n",
    "    \n",
    "    return lgb_grid, mse_train, mse_test, mse_oob, lgb_grid.best_params_"
   ]
  },
  {
   "cell_type": "markdown",
   "id": "d4543f2c",
   "metadata": {},
   "source": [
    "# Modeling"
   ]
  },
  {
   "cell_type": "code",
   "execution_count": null,
   "id": "99e9c99c",
   "metadata": {
    "ExecuteTime": {
     "end_time": "2024-03-03T11:09:38.572265Z",
     "start_time": "2024-03-03T11:09:38.553006Z"
    },
    "tags": []
   },
   "outputs": [],
   "source": [
    "oob_ligands = ['L13','L14', 'L15']\n",
    "train_exclude = oob_ligands "
   ]
  },
  {
   "cell_type": "code",
   "execution_count": null,
   "id": "d8dbdc4e",
   "metadata": {
    "ExecuteTime": {
     "end_time": "2024-03-03T11:09:39.519150Z",
     "start_time": "2024-03-03T11:09:39.505940Z"
    },
    "tags": []
   },
   "outputs": [],
   "source": [
    "real_df, oob_all_df = data_preprocess(all_df)"
   ]
  },
  {
   "cell_type": "code",
   "execution_count": null,
   "id": "0f686e09",
   "metadata": {
    "tags": []
   },
   "outputs": [],
   "source": [
    "start = 0\n",
    "end = 1000 #1000\n",
    "step_size = 1000\n",
    "\n",
    "random_num = np.arange(start,end,step_size)\n",
    "print(len(random_num))"
   ]
  },
  {
   "cell_type": "markdown",
   "id": "31dcccd1",
   "metadata": {},
   "source": [
    "## XG Boost"
   ]
  },
  {
   "cell_type": "markdown",
   "id": "ab7df7e7",
   "metadata": {},
   "source": [
    "### Kmeans"
   ]
  },
  {
   "cell_type": "code",
   "execution_count": null,
   "id": "82e68f85",
   "metadata": {
    "tags": []
   },
   "outputs": [],
   "source": [
    "\"\"\"\n",
    "1: Borderline 2\n",
    "2: SVM\n",
    "3: Kmeans\n",
    "4: Adasyn\n",
    "\n",
    "\"\"\"\n",
    "minority_df, X, y, oob_df, X_oob, y_oob = smote_requirement(real_df, oob_all_df, \n",
    "                                                            smote_required = True,smote=3)"
   ]
  },
  {
   "cell_type": "code",
   "execution_count": null,
   "id": "e13deb25",
   "metadata": {
    "scrolled": true
   },
   "outputs": [],
   "source": [
    "%%time\n",
    "import tqdm.notebook as tq\n",
    "\n",
    "columns = ['Random number', 'Train RMSE', 'Test RMSE', 'OOB RMSE', 'Hyp parameters']\n",
    "kmeans_xgb_100 = pd.DataFrame(columns=columns)\n",
    "\n",
    "for i in tq.tqdm(random_num):\n",
    "    X_train, X_test, y_train, y_test = data_split_scaling(X, random_state=i)\n",
    "    \n",
    "    parameters_xgb = {'gamma':[0.5, 3],\n",
    "              'objective':['reg:squarederror'],\n",
    "              'learning_rate': [.03, 0.05], \n",
    "              'max_depth': [5, 6],\n",
    "              'min_child_weight': [4],\n",
    "              'subsample': [0.3],\n",
    "              'colsample_bytree': [0.7, 1.0],\n",
    "              'n_estimators': [500],          \n",
    "              'reg_alpha': [ 0.5],            \n",
    "              'reg_lambda': [0]}              \n",
    "    xgb_grid, mse_train, mse_test, mse_oob, parameters = xgboost_model(X_train, X_test, y_train, y_test, parameters_xgb,\n",
    "                                                                       random_state=i, cv = 5, early_stop = False ,early_stop_rounds = 5 , \n",
    "                                                                       X_oob = X_oob, y_oob = y_oob, oob_all_df = oob_all_df)\n",
    "    kmeans_xgb_100 = kmeans_xgb_100.append({\n",
    "        'Random number': i,\n",
    "        'Train RMSE': mse_train,\n",
    "        'Test RMSE': mse_test,\n",
    "        'OOB RMSE': mse_oob,  \n",
    "        'Hyp parameters': parameters\n",
    "    }, ignore_index=True)\n",
    "    \n",
    "    print(\"\\n\", i, \" Done #################################################################################\")"
   ]
  },
  {
   "cell_type": "code",
   "execution_count": null,
   "id": "d9d3a49c",
   "metadata": {},
   "outputs": [],
   "source": [
    "kmeans_xgb_100.head()"
   ]
  },
  {
   "cell_type": "code",
   "execution_count": null,
   "id": "1490d2f8",
   "metadata": {},
   "outputs": [],
   "source": [
    "kmeans_xgb_100.describe()"
   ]
  },
  {
   "cell_type": "code",
   "execution_count": null,
   "id": "e0f2fa72",
   "metadata": {},
   "outputs": [],
   "source": [
    "kmeans_xgb_100.to_excel(r'100 runs/kmeans_xgb_100_set2.xlsx', index=False)"
   ]
  },
  {
   "cell_type": "markdown",
   "id": "9219b8e8",
   "metadata": {},
   "source": [
    "### No SMOTE"
   ]
  },
  {
   "cell_type": "code",
   "execution_count": null,
   "id": "044403af",
   "metadata": {},
   "outputs": [],
   "source": [
    "\"\"\"\n",
    "1: Borderline 2\n",
    "2: SVM\n",
    "3: Kmeans\n",
    "4: Adasyn\n",
    "\n",
    "\"\"\"\n",
    "minority_df, X, y, oob_df, X_oob, y_oob = smote_requirement(real_df, oob_all_df, \n",
    "                                                            smote_required = False,smote=3)"
   ]
  },
  {
   "cell_type": "code",
   "execution_count": null,
   "id": "6ac465b5",
   "metadata": {
    "scrolled": true
   },
   "outputs": [],
   "source": [
    "%%time\n",
    "import tqdm.notebook as tq\n",
    "\n",
    "columns = ['Random number', 'Train RMSE', 'Test RMSE', 'OOB RMSE', 'Hyp parameters']\n",
    "no_smote_xgb_100 = pd.DataFrame(columns=columns)\n",
    "\n",
    "for i in tq.tqdm(random_num):\n",
    "    X_train, X_test, y_train, y_test = data_split_scaling(X, random_state=i)\n",
    "    \n",
    "    parameters_xgb = {'gamma':[0.5, 3],\n",
    "              'objective':['reg:squarederror'],\n",
    "              'learning_rate': [.03, 0.05], \n",
    "              'max_depth': [5, 6],\n",
    "              'min_child_weight': [4],\n",
    "              'subsample': [0.3],\n",
    "              'colsample_bytree': [0.7, 1.0],\n",
    "              'n_estimators': [500],           \n",
    "              'reg_alpha': [ 0.5],             \n",
    "              'reg_lambda': [0]}               \n",
    "    xgb_grid, mse_train, mse_test, mse_oob, parameters = xgboost_model(X_train, X_test, y_train, y_test, parameters_xgb,\n",
    "                                                                       random_state=i, cv = 5, early_stop = False ,early_stop_rounds = 5 , \n",
    "                                                                       X_oob = X_oob, y_oob = y_oob, oob_all_df = oob_all_df)\n",
    "    no_smote_xgb_100 = no_smote_xgb_100.append({\n",
    "        'Random number': i,\n",
    "        'Train RMSE': mse_train,\n",
    "        'Test RMSE': mse_test,\n",
    "        'OOB RMSE': mse_oob,  \n",
    "        'Hyp parameters': parameters\n",
    "    }, ignore_index=True)\n",
    "    \n",
    "    print(\"\\n\", i, \" Done #################################################################################\")"
   ]
  },
  {
   "cell_type": "code",
   "execution_count": null,
   "id": "1381be9e",
   "metadata": {},
   "outputs": [],
   "source": [
    "no_smote_xgb_100.head()"
   ]
  },
  {
   "cell_type": "code",
   "execution_count": null,
   "id": "12cb5f75",
   "metadata": {},
   "outputs": [],
   "source": [
    "no_smote_xgb_100.describe()"
   ]
  },
  {
   "cell_type": "code",
   "execution_count": null,
   "id": "6aa0b507",
   "metadata": {},
   "outputs": [],
   "source": [
    "no_smote_xgb_100.to_excel(r'100 runs/no_smote_xgb_100_set2.xlsx', index=False)"
   ]
  },
  {
   "cell_type": "markdown",
   "id": "a8607e4f",
   "metadata": {},
   "source": [
    "## Random Forest"
   ]
  },
  {
   "cell_type": "markdown",
   "id": "1101df94",
   "metadata": {},
   "source": [
    "### Kmeans"
   ]
  },
  {
   "cell_type": "code",
   "execution_count": null,
   "id": "da52804c",
   "metadata": {},
   "outputs": [],
   "source": [
    "\"\"\"\n",
    "1: Borderline 2\n",
    "2: SVM\n",
    "3: Kmeans\n",
    "4: Adasyn\n",
    "\n",
    "\"\"\"\n",
    "minority_df, X, y, oob_df, X_oob, y_oob = smote_requirement(real_df, oob_all_df, \n",
    "                                                            smote_required = True,smote=3)"
   ]
  },
  {
   "cell_type": "code",
   "execution_count": null,
   "id": "b6ea8205",
   "metadata": {
    "scrolled": true
   },
   "outputs": [],
   "source": [
    "%%time\n",
    "import tqdm.notebook as tq\n",
    "\n",
    "columns = ['Random number', 'Train RMSE', 'Test RMSE', 'OOB RMSE', 'Hyp parameters']\n",
    "kmeans_rf_100 = pd.DataFrame(columns=columns)\n",
    "\n",
    "for i in tq.tqdm(random_num):\n",
    "    X_train, X_test, y_train, y_test = data_split_scaling(X, random_state=i)\n",
    "    \n",
    "    param_grid_rf = {\n",
    "        'n_estimators': [100, 500],           \n",
    "        'max_depth': [5, 10],                 \n",
    "        'min_samples_split': [ 10],           \n",
    "        'min_samples_leaf': [ 2, 4],          \n",
    "        'max_features': ['sqrt'],             \n",
    "        'bootstrap': [True, False]                         \n",
    "    }\n",
    "    rf_grid, mse_train, mse_test, mse_oob, parameters = rf_model(X_train, X_test, y_train, y_test, param_grid_rf,\n",
    "                                                                       random_state=i, cv = 5, early_stop = False ,early_stop_rounds = 5 , \n",
    "                                                                       X_oob = X_oob, y_oob = y_oob, oob_all_df = oob_all_df)\n",
    "    kmeans_rf_100 = kmeans_rf_100.append({\n",
    "        'Random number': i,\n",
    "        'Train RMSE': mse_train,\n",
    "        'Test RMSE': mse_test,\n",
    "        'OOB RMSE': mse_oob,  \n",
    "        'Hyp parameters': parameters\n",
    "    }, ignore_index=True)\n",
    "    \n",
    "    print(\"\\n\", i, \" Done #################################################################################\")"
   ]
  },
  {
   "cell_type": "code",
   "execution_count": null,
   "id": "02e76382",
   "metadata": {},
   "outputs": [],
   "source": [
    "kmeans_rf_100.head()"
   ]
  },
  {
   "cell_type": "code",
   "execution_count": null,
   "id": "eb387d8b",
   "metadata": {},
   "outputs": [],
   "source": [
    "kmeans_rf_100.describe()"
   ]
  },
  {
   "cell_type": "code",
   "execution_count": null,
   "id": "71cfa470",
   "metadata": {},
   "outputs": [],
   "source": [
    "kmeans_rf_100.to_excel(r'100 runs/kmeans_rf_100_set2.xlsx', index=False)"
   ]
  },
  {
   "cell_type": "markdown",
   "id": "e719c374",
   "metadata": {},
   "source": [
    "### No SMOTE"
   ]
  },
  {
   "cell_type": "code",
   "execution_count": null,
   "id": "e1953914",
   "metadata": {},
   "outputs": [],
   "source": [
    "\"\"\"\n",
    "1: Borderline 2\n",
    "2: SVM\n",
    "3: Kmeans\n",
    "4: Adasyn\n",
    "\n",
    "\"\"\"\n",
    "minority_df, X, y, oob_df, X_oob, y_oob = smote_requirement(real_df, oob_all_df, \n",
    "                                                            smote_required = False,smote=3)"
   ]
  },
  {
   "cell_type": "code",
   "execution_count": null,
   "id": "ecfbbc1c",
   "metadata": {
    "scrolled": true
   },
   "outputs": [],
   "source": [
    "%%time\n",
    "import tqdm.notebook as tq\n",
    "\n",
    "columns = ['Random number', 'Train RMSE', 'Test RMSE', 'OOB RMSE', 'Hyp parameters']\n",
    "no_smote_rf_100 = pd.DataFrame(columns=columns)\n",
    "\n",
    "for i in tq.tqdm(random_num):\n",
    "    X_train, X_test, y_train, y_test = data_split_scaling(X, random_state=i)\n",
    "    \n",
    "    param_grid_rf = {\n",
    "        'n_estimators': [100, 500],      \n",
    "        'max_depth': [5, 10],            \n",
    "        'min_samples_split': [ 10],      \n",
    "        'min_samples_leaf': [ 2, 4],     \n",
    "        'max_features': ['sqrt'],        \n",
    "        'bootstrap': [True, False]       \n",
    "    }\n",
    "    rf_grid, mse_train, mse_test, mse_oob, parameters = rf_model(X_train, X_test, y_train, y_test, param_grid_rf,\n",
    "                                                                       random_state=i, cv = 5, early_stop = False ,early_stop_rounds = 5 , \n",
    "                                                                       X_oob = X_oob, y_oob = y_oob, oob_all_df = oob_all_df)\n",
    "    no_smote_rf_100 = no_smote_rf_100.append({\n",
    "        'Random number': i,\n",
    "        'Train RMSE': mse_train,\n",
    "        'Test RMSE': mse_test,\n",
    "        'OOB RMSE': mse_oob, \n",
    "        'Hyp parameters': parameters\n",
    "    }, ignore_index=True)\n",
    "    \n",
    "    print(\"\\n\", i, \" Done #################################################################################\")"
   ]
  },
  {
   "cell_type": "code",
   "execution_count": null,
   "id": "d59a5b5c",
   "metadata": {},
   "outputs": [],
   "source": [
    "no_smote_rf_100.head()"
   ]
  },
  {
   "cell_type": "code",
   "execution_count": null,
   "id": "86256c71",
   "metadata": {},
   "outputs": [],
   "source": [
    "no_smote_rf_100.describe()"
   ]
  },
  {
   "cell_type": "code",
   "execution_count": null,
   "id": "2ee9d505",
   "metadata": {},
   "outputs": [],
   "source": [
    "no_smote_rf_100.to_excel(r'100 runs/no_smote_rf_100_set2.xlsx', index=False)"
   ]
  },
  {
   "cell_type": "markdown",
   "id": "5d362493",
   "metadata": {},
   "source": [
    "## LGBM"
   ]
  },
  {
   "cell_type": "markdown",
   "id": "19f91f47",
   "metadata": {},
   "source": [
    "### Kmeans"
   ]
  },
  {
   "cell_type": "code",
   "execution_count": null,
   "id": "e21f3a71",
   "metadata": {},
   "outputs": [],
   "source": [
    "\"\"\"\n",
    "1: Borderline 2\n",
    "2: SVM\n",
    "3: Kmeans\n",
    "4: Adasyn\n",
    "\n",
    "\"\"\"\n",
    "minority_df, X, y, oob_df, X_oob, y_oob = smote_requirement(real_df, oob_all_df, \n",
    "                                                            smote_required = True,smote=3)"
   ]
  },
  {
   "cell_type": "code",
   "execution_count": null,
   "id": "187d3cbc",
   "metadata": {
    "scrolled": true
   },
   "outputs": [],
   "source": [
    "%%time\n",
    "import tqdm.notebook as tq\n",
    "\n",
    "columns = ['Random number', 'Train RMSE', 'Test RMSE', 'OOB RMSE', 'Hyp parameters']\n",
    "kmeans_lgb_100 = pd.DataFrame(columns=columns)\n",
    "\n",
    "for i in tq.tqdm(random_num):\n",
    "    X_train, X_test, y_train, y_test = data_split_scaling(X, random_state=i)\n",
    "    \n",
    "    param_grid_lgb = {\n",
    "        'boosting_type': ['dart'],       \n",
    "        'num_leaves': [10,31],           \n",
    "        'learning_rate': [0.05, 0.3],    \n",
    "        'subsample': [0.3,0.8],          \n",
    "        'colsample_bytree': [0.5,0.8],   \n",
    "        'reg_alpha': [0.5],              \n",
    "        'reg_lambda': [0,0.5],           \n",
    "        'n_estimators': [500],           \n",
    "    }\n",
    "    lgb_grid, mse_train, mse_test, mse_oob, parameters = lgb_model(X_train, X_test, y_train, y_test, param_grid_lgb,\n",
    "                                                                       random_state=i, cv = 5, early_stop = False ,early_stop_rounds = 5 , \n",
    "                                                                       X_oob = X_oob, y_oob = y_oob, oob_all_df = oob_all_df)\n",
    "    kmeans_lgb_100 = kmeans_lgb_100.append({\n",
    "        'Random number': i,\n",
    "        'Train RMSE': mse_train,\n",
    "        'Test RMSE': mse_test,\n",
    "        'OOB RMSE': mse_oob,  \n",
    "        'Hyp parameters': parameters\n",
    "    }, ignore_index=True)\n",
    "    \n",
    "    print(\"\\n\", i, \" Done #################################################################################\")"
   ]
  },
  {
   "cell_type": "code",
   "execution_count": null,
   "id": "428ba769",
   "metadata": {},
   "outputs": [],
   "source": [
    "kmeans_lgb_100.head()"
   ]
  },
  {
   "cell_type": "code",
   "execution_count": null,
   "id": "49af5e3e",
   "metadata": {},
   "outputs": [],
   "source": [
    "kmeans_lgb_100.describe()"
   ]
  },
  {
   "cell_type": "code",
   "execution_count": null,
   "id": "65fd63f1",
   "metadata": {},
   "outputs": [],
   "source": [
    "kmeans_lgb_100.to_excel(r'100 runs/kmeans_lgb_100_set2.xlsx', index=False)"
   ]
  },
  {
   "cell_type": "markdown",
   "id": "3af5c0a4",
   "metadata": {},
   "source": [
    "### No SMOTE"
   ]
  },
  {
   "cell_type": "code",
   "execution_count": null,
   "id": "d1c6322d",
   "metadata": {},
   "outputs": [],
   "source": [
    "\"\"\"\n",
    "1: Borderline 2\n",
    "2: SVM\n",
    "3: Kmeans\n",
    "4: Adasyn\n",
    "\n",
    "\"\"\"\n",
    "minority_df, X, y, oob_df, X_oob, y_oob = smote_requirement(real_df, oob_all_df, \n",
    "                                                            smote_required = False,smote=3)"
   ]
  },
  {
   "cell_type": "code",
   "execution_count": null,
   "id": "e7392d0e",
   "metadata": {
    "scrolled": true
   },
   "outputs": [],
   "source": [
    "%%time\n",
    "import tqdm.notebook as tq\n",
    "\n",
    "columns = ['Random number', 'Train RMSE', 'Test RMSE', 'OOB RMSE', 'Hyp parameters']\n",
    "no_smote_lgb_100 = pd.DataFrame(columns=columns)\n",
    "\n",
    "for i in tq.tqdm(random_num):\n",
    "    X_train, X_test, y_train, y_test = data_split_scaling(X, random_state=i)\n",
    "    \n",
    "    param_grid_lgb = {\n",
    "        'boosting_type': ['dart'],          \n",
    "        'num_leaves': [10,31],              \n",
    "        'learning_rate': [0.05, 0.3],       \n",
    "        'subsample': [0.3,0.8],             \n",
    "        'colsample_bytree': [0.5,0.8],      \n",
    "        'reg_alpha': [0,0.5],               \n",
    "        'reg_lambda': [0,0.5],              \n",
    "        'n_estimators': [500],              \n",
    "    }\n",
    "    lgb_grid, mse_train, mse_test, mse_oob, parameters = lgb_model(X_train, X_test, y_train, y_test, param_grid_lgb,\n",
    "                                                                       random_state=i, cv = 5, early_stop = False ,early_stop_rounds = 5 , \n",
    "                                                                       X_oob = X_oob, y_oob = y_oob, oob_all_df = oob_all_df)\n",
    "    no_smote_lgb_100 = no_smote_lgb_100.append({\n",
    "        'Random number': i,\n",
    "        'Train RMSE': mse_train,\n",
    "        'Test RMSE': mse_test,\n",
    "        'OOB RMSE': mse_oob,  \n",
    "        'Hyp parameters': parameters\n",
    "    }, ignore_index=True)\n",
    "    \n",
    "    print(\"\\n\", i, \" Done #################################################################################\")"
   ]
  },
  {
   "cell_type": "code",
   "execution_count": null,
   "id": "5d347c6d",
   "metadata": {},
   "outputs": [],
   "source": [
    "no_smote_lgb_100.head()"
   ]
  },
  {
   "cell_type": "code",
   "execution_count": null,
   "id": "831fbe60",
   "metadata": {},
   "outputs": [],
   "source": [
    "no_smote_lgb_100.describe()"
   ]
  },
  {
   "cell_type": "code",
   "execution_count": null,
   "id": "656794ff",
   "metadata": {},
   "outputs": [],
   "source": [
    "no_smote_lgb_100.to_excel(r'100 runs/no_smote_lgb_100_set2.xlsx', index=False)"
   ]
  },
  {
   "cell_type": "markdown",
   "id": "de825193-fa99-43ae-85f8-8de8c1e68535",
   "metadata": {
    "tags": []
   },
   "source": [
    "# Predicted values for best run"
   ]
  },
  {
   "cell_type": "code",
   "execution_count": null,
   "id": "4b2b30bf-253e-4adb-a319-6634ab3c7fa3",
   "metadata": {
    "tags": []
   },
   "outputs": [],
   "source": [
    "oob_ligands = ['L13','L14', 'L15']\n",
    "train_exclude = oob_ligands \n",
    "\n",
    "real_df, oob_all_df = data_preprocess(all_df)\n",
    "\n",
    "random_num = [660]\n",
    "\n",
    "\"\"\"\n",
    "1: Borderline 2\n",
    "2: SVM\n",
    "3: Kmeans\n",
    "4: Adasyn\n",
    "\n",
    "\"\"\"\n",
    "minority_df, X, y, oob_df, X_oob, y_oob = smote_requirement(real_df, oob_all_df, \n",
    "                                                            smote_required = True,smote=3)\n",
    "\n",
    "columns = ['Random number', 'Train RMSE', 'Test RMSE', 'OOB RMSE', 'Hyp parameters']\n",
    "kmeans_xgb_100 = pd.DataFrame(columns=columns)\n",
    "\n",
    "for i in random_num:\n",
    "    X_train, X_test, y_train, y_test = data_split_scaling(X, random_state=i)\n",
    "    \n",
    "    parameters_xgb = {\n",
    "        'gamma':[0.5],\n",
    "        'objective':['reg:squarederror'],\n",
    "        'learning_rate': [0.03], \n",
    "        'max_depth': [6],\n",
    "        'min_child_weight': [4],\n",
    "        'subsample': [0.3],\n",
    "        'colsample_bytree': [0.7],\n",
    "        'n_estimators': [500], \n",
    "        'reg_alpha': [ 0.5],  \n",
    "        'reg_lambda': [0] \n",
    "    }\n",
    "    xgb_grid, mse_train, mse_test, mse_oob, parameters, prediction_oob, y_oob= xgboost_model(X_train, X_test, y_train, y_test, parameters_xgb,\n",
    "                                                                       random_state=i, cv = 5, early_stop = False ,early_stop_rounds = 5 , \n",
    "                                                                       X_oob = X_oob, y_oob = y_oob, oob_all_df = oob_all_df)"
   ]
  },
  {
   "cell_type": "markdown",
   "id": "3978113b-2aa7-43db-bb60-54b8a529fce7",
   "metadata": {},
   "source": [
    "\n",
    "# Shapley"
   ]
  },
  {
   "cell_type": "code",
   "execution_count": null,
   "id": "b0089e9a-27c8-40a0-ad20-4d7a9d39f932",
   "metadata": {
    "hidden": true,
    "tags": []
   },
   "outputs": [],
   "source": [
    "oob_ligands = ['L13','L14', 'L15']\n",
    "train_exclude = oob_ligands "
   ]
  },
  {
   "cell_type": "code",
   "execution_count": null,
   "id": "21f04871-259a-4917-a0b2-58323d657cb8",
   "metadata": {
    "hidden": true,
    "tags": []
   },
   "outputs": [],
   "source": [
    "real_df, oob_all_df = data_preprocess(all_df)"
   ]
  },
  {
   "cell_type": "code",
   "execution_count": null,
   "id": "393f042b-f3b2-402b-ac3d-2090a1706719",
   "metadata": {
    "hidden": true,
    "tags": []
   },
   "outputs": [],
   "source": [
    "start = 0\n",
    "end = 1000 #1000\n",
    "step_size = 10\n",
    "\n",
    "random_num = np.arange(start,end,step_size)\n",
    "print(len(random_num))"
   ]
  },
  {
   "cell_type": "code",
   "execution_count": null,
   "id": "3f6f191f-4826-4ba9-991b-3e4213d70b3a",
   "metadata": {
    "hidden": true,
    "tags": []
   },
   "outputs": [],
   "source": [
    "\"\"\"\n",
    "1: Borderline 2\n",
    "2: SVM\n",
    "3: Kmeans\n",
    "4: Adasyn\n",
    "\n",
    "\"\"\"\n",
    "minority_df, X, y, oob_df, X_oob, y_oob = smote_requirement(real_df, oob_all_df, \n",
    "                                                            smote_required = True,smote=3)"
   ]
  },
  {
   "cell_type": "code",
   "execution_count": null,
   "id": "8328d1dc-9b5a-4b8f-bdca-e1cb3707ef27",
   "metadata": {
    "hidden": true,
    "scrolled": true,
    "tags": []
   },
   "outputs": [],
   "source": [
    "%%time\n",
    "import tqdm.notebook as tq\n",
    "\n",
    "columns = ['Random number', 'Train RMSE', 'Test RMSE', 'OOB RMSE', 'Hyp parameters']\n",
    "results = []\n",
    "random_num = [660]\n",
    "\n",
    "X_train, X_test, y_train, y_test = data_split_scaling(X, random_state=i)\n",
    "\n",
    "parameters_xgb = {\n",
    "    'gamma':[0.5],\n",
    "    'objective':['reg:squarederror'],\n",
    "    'learning_rate': [0.03], #so called `eta` value\n",
    "    'max_depth': [6],\n",
    "    'min_child_weight': [4],\n",
    "    'subsample': [0.3],\n",
    "    'colsample_bytree': [0.7],\n",
    "    'n_estimators': [500],  \n",
    "    'reg_alpha': [ 0.5],  \n",
    "    'reg_lambda': [0]  \n",
    "}\n",
    "\n",
    "xgb_grid, mse_train, mse_test, mse_oob, parameters = xgboost_model(X_train, X_test, y_train, y_test, parameters_xgb,\n",
    "                                                                   random_state=random_num, cv=5, early_stop=False, early_stop_rounds=5, \n",
    "                                                                   X_oob=X_oob, y_oob=y_oob, oob_all_df=oob_all_df)\n",
    "\n",
    "\n",
    "results.append({\n",
    "    'Random number': i,\n",
    "    'Train RMSE': mse_train,\n",
    "    'Test RMSE': mse_test,\n",
    "    'OOB RMSE': mse_oob,  \n",
    "    'Hyp parameters': parameters\n",
    "})\n",
    "    \n",
    "kmeans_xgb_100 = pd.DataFrame(results, columns=columns)"
   ]
  },
  {
   "cell_type": "code",
   "execution_count": null,
   "id": "19a7fa11-3983-41e3-8340-041517e47d16",
   "metadata": {
    "tags": []
   },
   "outputs": [],
   "source": [
    "import shap\n",
    "results = []\n",
    "\n",
    "parameters_xgb = {\n",
    "    'gamma':[0.5],\n",
    "    'objective':['reg:squarederror'],\n",
    "    'learning_rate': [0.03], \n",
    "    'max_depth': [6],\n",
    "    'min_child_weight': [4],\n",
    "    'subsample': [0.3],\n",
    "    'colsample_bytree': [0.7],\n",
    "    'n_estimators': [500],  \n",
    "    'reg_alpha': [ 0.5],\n",
    "    'reg_lambda': [0] \n",
    "}\n",
    "\n",
    "\n",
    "xgb_regressor = xgb.XGBRegressor(random_state=660)\n",
    "\n",
    "grid_search = GridSearchCV(estimator=xgb_regressor, param_grid=parameters_xgb, \n",
    "                           scoring='neg_mean_squared_error', cv=5, verbose=1, n_jobs=-1)\n",
    "grid_search.fit(X_train, y_train)\n",
    "\n",
    "best_xgb = grid_search.best_estimator_\n",
    "\n",
    "print(\"Best parameters found: \", grid_search.best_params_)\n",
    "\n",
    "y_train_pred = best_xgb.predict(X_train)\n",
    "y_test_pred = best_xgb.predict(X_test)\n",
    "\n",
    "mse_train = mean_squared_error(y_train, y_train_pred, squared=False)\n",
    "mse_test = mean_squared_error(y_test, y_test_pred, squared=False)\n",
    "print(f\"Train RMSE: {mse_train}\")\n",
    "print(f\"Test RMSE: {mse_test}\")\n",
    "\n",
    "explainer = shap.Explainer(best_xgb, X_train)\n",
    "shap_values = explainer(X_test)\n",
    "\n",
    "plt.figure(figsize=(10, 7))\n",
    "shap.summary_plot(shap_values, X_test, show=False)\n",
    "\n",
    "results.append({\n",
    "    'Random number': random_num[0],\n",
    "    'Train RMSE': mse_train,\n",
    "    'Test RMSE': mse_test,\n",
    "    'OOB RMSE': mse_oob,  \n",
    "    'Hyp parameters': parameters\n",
    "})\n",
    "\n",
    "kmeans_xgb_100 = pd.DataFrame(results, columns=columns)\n",
    "kmeans_xgb_100"
   ]
  }
 ],
 "metadata": {
  "kernelspec": {
   "display_name": "Python 3 (ipykernel)",
   "language": "python",
   "name": "python3"
  },
  "language_info": {
   "codemirror_mode": {
    "name": "ipython",
    "version": 3
   },
   "file_extension": ".py",
   "mimetype": "text/x-python",
   "name": "python",
   "nbconvert_exporter": "python",
   "pygments_lexer": "ipython3",
   "version": "3.11.7"
  },
  "toc": {
   "base_numbering": 1,
   "nav_menu": {},
   "number_sections": true,
   "sideBar": true,
   "skip_h1_title": false,
   "title_cell": "Table of Contents",
   "title_sidebar": "Contents",
   "toc_cell": false,
   "toc_position": {
    "height": "calc(100% - 180px)",
    "left": "10px",
    "top": "150px",
    "width": "301.6px"
   },
   "toc_section_display": true,
   "toc_window_display": false
  },
  "toc-showmarkdowntxt": false,
  "varInspector": {
   "cols": {
    "lenName": 16,
    "lenType": 16,
    "lenVar": 40
   },
   "kernels_config": {
    "python": {
     "delete_cmd_postfix": "",
     "delete_cmd_prefix": "del ",
     "library": "var_list.py",
     "varRefreshCmd": "print(var_dic_list())"
    },
    "r": {
     "delete_cmd_postfix": ") ",
     "delete_cmd_prefix": "rm(",
     "library": "var_list.r",
     "varRefreshCmd": "cat(var_dic_list()) "
    }
   },
   "types_to_exclude": [
    "module",
    "function",
    "builtin_function_or_method",
    "instance",
    "_Feature"
   ],
   "window_display": false
  }
 },
 "nbformat": 4,
 "nbformat_minor": 5
}
