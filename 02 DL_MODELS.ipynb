{
 "cells": [
  {
   "cell_type": "code",
   "execution_count": null,
   "id": "93604085",
   "metadata": {},
   "outputs": [],
   "source": [
    "import pandas as pd\n",
    "import numpy as np\n",
    "from imblearn.over_sampling import BorderlineSMOTE, SVMSMOTE, KMeansSMOTE, ADASYN\n",
    "from matplotlib import pyplot as plt\n",
    "import warnings\n",
    "warnings.simplefilter(\"ignore\")\n",
    "from sklearn.ensemble import RandomForestRegressor, RandomForestClassifier\n",
    "from sklearn.metrics import mean_squared_error, accuracy_score, r2_score\n",
    "from hyperopt import fmin, tpe, hp, STATUS_OK, Trials\n",
    "from hyperopt.pyll import scope\n",
    "from hyperopt.pyll.stochastic import sample\n",
    "import math\n",
    "from sklearn.model_selection import GridSearchCV, ParameterGrid, train_test_split, cross_val_score\n",
    "import re\n",
    "import seaborn as sns\n",
    "from scipy.stats import chi2_contingency\n",
    "from subprocess import check_output\n",
    "from joblib.logger import pprint\n",
    "from sklearn.preprocessing import StandardScaler, PolynomialFeatures\n",
    "import xgboost as xgb\n",
    "from xgboost.sklearn import XGBRegressor\n",
    "import lightgbm as lgb\n",
    "import tensorflow as tf\n",
    "from tensorflow import keras\n",
    "from tensorflow.keras.wrappers.scikit_learn import KerasRegressor\n",
    "\n",
    "%matplotlib inline"
   ]
  },
  {
   "cell_type": "markdown",
   "id": "72ca0ae8",
   "metadata": {},
   "source": [
    "# 1.0 Data load"
   ]
  },
  {
   "cell_type": "code",
   "execution_count": null,
   "id": "391000f9",
   "metadata": {},
   "outputs": [],
   "source": [
    "all_df=pd.read_excel(r\"Datasheet.xlsx\")"
   ]
  },
  {
   "cell_type": "code",
   "execution_count": null,
   "id": "5ff6ee58",
   "metadata": {},
   "outputs": [],
   "source": [
    "print(all_df.shape)\n",
    "all_df.head(1)"
   ]
  },
  {
   "cell_type": "markdown",
   "id": "aeae8cae",
   "metadata": {},
   "source": [
    "# Functions"
   ]
  },
  {
   "cell_type": "code",
   "execution_count": null,
   "id": "ed0b330d",
   "metadata": {},
   "outputs": [],
   "source": [
    "def data_preprocess(all_df):\n",
    "    real_df = all_df[~all_df['Ligand'].isin(train_exclude)]\n",
    "    oob_all_df=all_df[all_df['Ligand'].isin(oob_ligands)]\n",
    "    print('Train Ligands:\\n', real_df.Ligand.value_counts())\n",
    "    print('---------------------------------------------------------------')\n",
    "    print('OOB Ligands:\\n', oob_all_df.Ligand.value_counts())\n",
    "    print('---------------------------------------------------------------')\n",
    "    real_df=real_df.iloc[:,3:]\n",
    "    #print(real_df.head(1))\n",
    "    return real_df, oob_all_df"
   ]
  },
  {
   "cell_type": "code",
   "execution_count": null,
   "id": "e0b0b3ba",
   "metadata": {},
   "outputs": [],
   "source": [
    "def smote_requirement(real_df, oob_all_df, smote_required = True,smote=1):\n",
    "    real_df['class']=np.where(real_df['Output (ee)%']>70,1,0)\n",
    "    print('Real distribution (>70 is 1): \\n', real_df['class'].value_counts())\n",
    "    print('Real dataset: ', real_df.shape)\n",
    "    minority_df=real_df[real_df['class']==0]\n",
    "    X=real_df.iloc[:,:-1]\n",
    "    y=real_df.iloc[:,-1]\n",
    "    if smote_required == True:\n",
    "        if  smote==1:\n",
    "            sm = BorderlineSMOTE(random_state=2, kind = 'borderline-2')\n",
    "            X_res, y_res = sm.fit_resample(X, y)\n",
    "\n",
    "        elif smote==2:\n",
    "            svm = SVMSMOTE(random_state=2)\n",
    "            X_res, y_res = svm.fit_resample(X, y)\n",
    "            \n",
    "        elif smote==3:\n",
    "            \n",
    "            km = KMeansSMOTE(random_state=2)\n",
    "            X_res, y_res = km.fit_resample(X, y)\n",
    "        \n",
    "        elif smote==4:\n",
    "            ada = ADASYN(random_state=2)\n",
    "            X_res, y_res = ada.fit_resample(X, y)\n",
    "        \n",
    "        print('SMOTE distribution (>70 is 1): \\n', y_res.value_counts())\n",
    "        print('SMOTE dataset: ', X_res.shape)\n",
    "        X = X_res\n",
    "        y = y_res\n",
    "    else:\n",
    "        pass\n",
    "    oob_df=oob_all_df.iloc[:,3:]\n",
    "    print('OOB dataset: ', oob_df.shape)\n",
    "    X_oob=oob_df.iloc[:,:-1]\n",
    "    y_oob=oob_df.iloc[:,-1]\n",
    "    return minority_df, X, y, oob_df, X_oob, y_oob\n",
    "\n"
   ]
  },
  {
   "cell_type": "code",
   "execution_count": null,
   "id": "25cdae80",
   "metadata": {},
   "outputs": [],
   "source": [
    "def data_split_scaling(X, random_state):\n",
    "    X_org=X.iloc[:,:-1]\n",
    "    y_org=X.iloc[:,-1]\n",
    "    X_train, X_test, y_train, y_test = train_test_split(X_org, y_org, test_size=0.2, random_state=random_state)\n",
    "    return X_train, X_test, y_train, y_test"
   ]
  },
  {
   "cell_type": "code",
   "execution_count": null,
   "id": "635f0fdb",
   "metadata": {},
   "outputs": [],
   "source": [
    "def nn_model(X_train, X_test, y_train, y_test,\n",
    "                  param_dist, random_state, cv, epochs, early_stop, X_oob , y_oob, oob_all_df ):\n",
    "    \n",
    "    tf.random.set_seed(random_state)\n",
    "    \n",
    "    def create_neural_network(hidden_units=32, dropout_rate=0.3, learning_rate=0.001):\n",
    "        model = keras.Sequential([\n",
    "            keras.layers.Dense(hidden_units, activation='relu', input_shape=(X_train.shape[1],)),\n",
    "            keras.layers.Dropout(dropout_rate),\n",
    "            keras.layers.Dense(hidden_units // 2, activation='relu'),\n",
    "            keras.layers.Dense(1)  # No activation for regression\n",
    "        ])\n",
    "        optimizer = keras.optimizers.Adam(learning_rate=learning_rate)\n",
    "        model.compile(optimizer=optimizer, loss='mse')\n",
    "        return model\n",
    "\n",
    "    keras_regressor = KerasRegressor(build_fn=create_neural_network, verbose=0)\n",
    "\n",
    "    grid = GridSearchCV(estimator=keras_regressor, param_grid=param_dist, cv=cv)\n",
    "    grid_result = grid.fit(X_train, y_train)\n",
    "\n",
    "    best_params = grid_result.best_params_\n",
    "    best_model = grid_result.best_estimator_.model\n",
    "\n",
    "    best_model.fit(X_train, y_train, epochs=epochs, batch_size=32)\n",
    "\n",
    "    prediction_train = best_model.predict(X_train)\n",
    "\n",
    "    prediction = best_model.predict(X_test)\n",
    "\n",
    "    mse_train = mean_squared_error(y_train, prediction_train, squared = False)\n",
    "    mse_test = mean_squared_error(y_test, prediction, squared = False)\n",
    "\n",
    "    print('Train RMSE: ', mse_train)\n",
    "    print('Test RMSE: ', mse_test)\n",
    "    \n",
    "    prediction_oob = best_model.predict(X_oob)\n",
    "    \n",
    "    mse_oob = mean_squared_error(y_oob, prediction_oob, squared = False)\n",
    "    print('OOB RMSE: ', mse_oob)\n",
    "\n",
    "    oob_df_predict = oob_all_df.copy()\n",
    "    oob_df_predict['prediction'] = prediction_oob\n",
    "    \n",
    "    def r2_rmse(g):\n",
    "        r2 = r2_score(g['Output (ee)%'], g['prediction'])\n",
    "        rmse = np.sqrt(mean_squared_error(g['Output (ee)%'], g['prediction'], squared = False))\n",
    "        return pd.Series(dict(rmse = rmse))\n",
    "    \n",
    "    return best_model, mse_train, mse_test, mse_oob, best_params"
   ]
  },
  {
   "cell_type": "markdown",
   "id": "fbf9b7d3",
   "metadata": {},
   "source": [
    "# Modeling"
   ]
  },
  {
   "cell_type": "code",
   "execution_count": null,
   "id": "8e9fa9bf",
   "metadata": {},
   "outputs": [],
   "source": [
    "oob_ligands = ['L13','L14', 'L15']\n",
    "train_exclude = oob_ligands "
   ]
  },
  {
   "cell_type": "code",
   "execution_count": null,
   "id": "60a76ce7",
   "metadata": {},
   "outputs": [],
   "source": [
    "real_df, oob_all_df = data_preprocess(all_df)"
   ]
  },
  {
   "cell_type": "code",
   "execution_count": null,
   "id": "f6b3b9f2",
   "metadata": {},
   "outputs": [],
   "source": [
    "start = 0\n",
    "end = 1000 #1000\n",
    "step_size = 10\n",
    "\n",
    "random_num = np.arange(start,end,step_size)\n",
    "print(len(random_num))"
   ]
  },
  {
   "cell_type": "markdown",
   "id": "99e6a92f",
   "metadata": {},
   "source": [
    "## NN"
   ]
  },
  {
   "cell_type": "markdown",
   "id": "fff7d86e",
   "metadata": {},
   "source": [
    "### Kmeans"
   ]
  },
  {
   "cell_type": "code",
   "execution_count": null,
   "id": "4f675999",
   "metadata": {},
   "outputs": [],
   "source": [
    "\"\"\"\n",
    "1: Borderline 2\n",
    "2: SVM\n",
    "3: Kmeans\n",
    "4: Adasyn\n",
    "\n",
    "\"\"\"\n",
    "minority_df, X, y, oob_df, X_oob, y_oob = smote_requirement(real_df, oob_all_df, \n",
    "                                                            smote_required = True,smote=3)"
   ]
  },
  {
   "cell_type": "code",
   "execution_count": null,
   "id": "cda8089c",
   "metadata": {
    "scrolled": true
   },
   "outputs": [],
   "source": [
    "%%time\n",
    "import tqdm.notebook as tq\n",
    "\n",
    "columns = ['Random number', 'Train RMSE', 'Test RMSE', 'OOB RMSE', 'Hyp parameters']\n",
    "kmeans_nn_100 = pd.DataFrame(columns=columns)\n",
    "\n",
    "for i in tq.tqdm(random_num):\n",
    "    X_train, X_test, y_train, y_test = data_split_scaling(X, random_state=i)\n",
    "    \n",
    "    param_dist = {\n",
    "        'hidden_units': [32, 64],\n",
    "        'dropout_rate': [0.1, 0.2,0.3],\n",
    "        'learning_rate': [0.001, 0.01]\n",
    "    }   \n",
    "\n",
    "    model,mse_train, mse_test, mse_oob, parameters = nn_model(X_train, X_test, y_train, y_test, param_dist,\n",
    "                                                                       random_state=i, cv = 5, epochs = 200, early_stop = False , \n",
    "                                                                       X_oob = X_oob, y_oob = y_oob, oob_all_df = oob_all_df)\n",
    "    kmeans_nn_100 = kmeans_nn_100.append({\n",
    "        'Random number': i,\n",
    "        'Train RMSE': mse_train,\n",
    "        'Test RMSE': mse_test,\n",
    "        'OOB RMSE': mse_oob,  \n",
    "        'Hyp parameters': parameters\n",
    "    }, ignore_index=True)\n",
    "    \n",
    "    print(\"\\n\", i, \" Done #################################################################################\")"
   ]
  },
  {
   "cell_type": "code",
   "execution_count": null,
   "id": "1c45cb47",
   "metadata": {},
   "outputs": [],
   "source": [
    "kmeans_nn_100.to_excel(r'100 runs/kmeans_nn_100_set2.xlsx', index=False)"
   ]
  },
  {
   "cell_type": "markdown",
   "id": "cd74beb3",
   "metadata": {},
   "source": [
    "### No SMOTE"
   ]
  },
  {
   "cell_type": "code",
   "execution_count": null,
   "id": "bd88b30f",
   "metadata": {},
   "outputs": [],
   "source": [
    "\"\"\"\n",
    "1: Borderline 2\n",
    "2: SVM\n",
    "3: Kmeans\n",
    "4: Adasyn\n",
    "\n",
    "\"\"\"\n",
    "minority_df, X, y, oob_df, X_oob, y_oob = smote_requirement(real_df, oob_all_df, \n",
    "                                                            smote_required = False,smote=3)"
   ]
  },
  {
   "cell_type": "code",
   "execution_count": null,
   "id": "b5eca6a8",
   "metadata": {
    "scrolled": true
   },
   "outputs": [],
   "source": [
    "%%time\n",
    "import tqdm.notebook as tq\n",
    "\n",
    "columns = ['Random number', 'Train RMSE', 'Test RMSE', 'OOB RMSE', 'Hyp parameters']\n",
    "no_smote_nn_100 = pd.DataFrame(columns=columns)\n",
    "\n",
    "for i in tq.tqdm(random_num):\n",
    "    X_train, X_test, y_train, y_test = data_split_scaling(X, random_state=i)\n",
    "    \n",
    "    param_dist = {\n",
    "        'hidden_units': [32, 64],\n",
    "        'dropout_rate': [0.1, 0.2,0.3],\n",
    "        'learning_rate': [0.001, 0.01]\n",
    "    }   \n",
    "  \n",
    "\n",
    "    model,mse_train, mse_test, mse_oob, parameters = nn_model(X_train, X_test, y_train, y_test, param_dist,\n",
    "                                                                       random_state=i, cv = 5, epochs = 200, early_stop = False , \n",
    "                                                                       X_oob = X_oob, y_oob = y_oob, oob_all_df = oob_all_df)\n",
    "    no_smote_nn_100 = no_smote_nn_100.append({\n",
    "        'Random number': i,\n",
    "        'Train RMSE': mse_train,\n",
    "        'Test RMSE': mse_test,\n",
    "        'OOB RMSE': mse_oob,  \n",
    "        'Hyp parameters': parameters\n",
    "    }, ignore_index=True)\n",
    "    \n",
    "    print(\"\\n\", i, \" Done #################################################################################\")"
   ]
  },
  {
   "cell_type": "code",
   "execution_count": null,
   "id": "702a1c3f",
   "metadata": {},
   "outputs": [],
   "source": [
    "no_smote_nn_100.to_excel(r'100 runs/no_smote_nn_100_set2.xlsx', index=False)"
   ]
  }
 ],
 "metadata": {
  "kernelspec": {
   "display_name": "Python 3 (ipykernel)",
   "language": "python",
   "name": "python3"
  },
  "language_info": {
   "codemirror_mode": {
    "name": "ipython",
    "version": 3
   },
   "file_extension": ".py",
   "mimetype": "text/x-python",
   "name": "python",
   "nbconvert_exporter": "python",
   "pygments_lexer": "ipython3",
   "version": "3.11.7"
  },
  "toc": {
   "base_numbering": 1,
   "nav_menu": {},
   "number_sections": true,
   "sideBar": true,
   "skip_h1_title": false,
   "title_cell": "Table of Contents",
   "title_sidebar": "Contents",
   "toc_cell": false,
   "toc_position": {},
   "toc_section_display": true,
   "toc_window_display": false
  },
  "varInspector": {
   "cols": {
    "lenName": 16,
    "lenType": 16,
    "lenVar": 40
   },
   "kernels_config": {
    "python": {
     "delete_cmd_postfix": "",
     "delete_cmd_prefix": "del ",
     "library": "var_list.py",
     "varRefreshCmd": "print(var_dic_list())"
    },
    "r": {
     "delete_cmd_postfix": ") ",
     "delete_cmd_prefix": "rm(",
     "library": "var_list.r",
     "varRefreshCmd": "cat(var_dic_list()) "
    }
   },
   "types_to_exclude": [
    "module",
    "function",
    "builtin_function_or_method",
    "instance",
    "_Feature"
   ],
   "window_display": false
  }
 },
 "nbformat": 4,
 "nbformat_minor": 5
}
