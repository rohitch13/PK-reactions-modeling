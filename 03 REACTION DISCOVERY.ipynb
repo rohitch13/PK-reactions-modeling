{
 "cells": [
  {
   "cell_type": "code",
   "execution_count": null,
   "id": "9fd8d092",
   "metadata": {
    "ExecuteTime": {
     "end_time": "2024-03-09T14:41:14.117958Z",
     "start_time": "2024-03-09T14:41:08.166184Z"
    },
    "tags": []
   },
   "outputs": [],
   "source": [
    "import pandas as pd\n",
    "import numpy as np\n",
    "from imblearn.over_sampling import BorderlineSMOTE, SVMSMOTE, KMeansSMOTE, ADASYN\n",
    "from matplotlib import pyplot as plt\n",
    "import warnings\n",
    "warnings.simplefilter(\"ignore\")\n",
    "from sklearn.ensemble import RandomForestRegressor, RandomForestClassifier\n",
    "from sklearn.metrics import mean_squared_error, accuracy_score, r2_score\n",
    "from hyperopt import fmin, tpe, hp, STATUS_OK, Trials\n",
    "from hyperopt.pyll import scope\n",
    "from hyperopt.pyll.stochastic import sample\n",
    "import math\n",
    "from sklearn.model_selection import GridSearchCV, ParameterGrid, train_test_split, cross_val_score\n",
    "import re\n",
    "import seaborn as sns\n",
    "from scipy.stats import chi2_contingency\n",
    "from subprocess import check_output\n",
    "from joblib.logger import pprint\n",
    "from sklearn.preprocessing import StandardScaler, PolynomialFeatures\n",
    "import xgboost as xgb\n",
    "from xgboost.sklearn import XGBRegressor\n",
    "\n",
    "import lightgbm as lgb\n",
    "\n",
    "%matplotlib inline"
   ]
  },
  {
   "cell_type": "markdown",
   "id": "72ca0ae8",
   "metadata": {},
   "source": [
    "# 1.0 Data load"
   ]
  },
  {
   "cell_type": "code",
   "execution_count": null,
   "id": "391000f9",
   "metadata": {
    "ExecuteTime": {
     "end_time": "2024-03-09T14:56:44.862240Z",
     "start_time": "2024-03-09T14:56:43.748845Z"
    },
    "tags": []
   },
   "outputs": [],
   "source": [
    "all_df=pd.read_excel(r\"Datasheet_2.xlsx\")\n",
    "all_df.shape"
   ]
  },
  {
   "cell_type": "code",
   "execution_count": null,
   "id": "5ff6ee58",
   "metadata": {
    "ExecuteTime": {
     "end_time": "2024-03-03T09:55:35.807085Z",
     "start_time": "2024-03-03T09:55:35.807085Z"
    },
    "tags": []
   },
   "outputs": [],
   "source": [
    "print(all_df.shape)\n",
    "all_df.head(1)"
   ]
  },
  {
   "cell_type": "markdown",
   "id": "fe5bf13e",
   "metadata": {},
   "source": [
    "## Data creation"
   ]
  },
  {
   "cell_type": "markdown",
   "id": "aaa586af",
   "metadata": {
    "heading_collapsed": true
   },
   "source": [
    "### Combinations possible"
   ]
  },
  {
   "cell_type": "code",
   "execution_count": null,
   "id": "3cb194f3",
   "metadata": {
    "ExecuteTime": {
     "end_time": "2024-03-03T09:18:31.014172Z",
     "start_time": "2024-03-03T09:18:30.993569Z"
    },
    "editable": true,
    "hidden": true,
    "slideshow": {
     "slide_type": ""
    },
    "tags": []
   },
   "outputs": [],
   "source": [
    "all_df['New Ligand'].nunique()*all_df['New Substrate'].nunique()*all_df['CO Pressure (atm)'].nunique()*all_df['Solvent '].nunique()*all_df['Temperature (oC)'].nunique()"
   ]
  },
  {
   "cell_type": "code",
   "execution_count": null,
   "id": "715f8c54",
   "metadata": {
    "ExecuteTime": {
     "end_time": "2024-03-03T09:18:35.867439Z",
     "start_time": "2024-03-03T09:18:35.855967Z"
    },
    "hidden": true,
    "tags": []
   },
   "outputs": [],
   "source": [
    "print(all_df['New Ligand'].nunique(), all_df['New Substrate'].nunique(), all_df['CO Pressure (atm)'].nunique(), all_df['Solvent '].nunique(), all_df['Temperature (oC)'].nunique())"
   ]
  },
  {
   "cell_type": "markdown",
   "id": "7b4437bf",
   "metadata": {},
   "source": [
    "### Checking if values are at unique level"
   ]
  },
  {
   "cell_type": "code",
   "execution_count": null,
   "id": "4319e4c2",
   "metadata": {
    "ExecuteTime": {
     "end_time": "2024-03-03T09:41:03.853344Z",
     "start_time": "2024-03-03T09:41:03.833245Z"
    },
    "tags": []
   },
   "outputs": [],
   "source": [
    "all_df.columns"
   ]
  },
  {
   "cell_type": "code",
   "execution_count": null,
   "id": "c1393efb",
   "metadata": {
    "ExecuteTime": {
     "end_time": "2024-03-09T14:56:47.164144Z",
     "start_time": "2024-03-09T14:56:47.128125Z"
    },
    "tags": []
   },
   "outputs": [],
   "source": [
    "duplicates = all_df.duplicated(subset=['New Ligand', 'BD 1-2', 'BD 4-5', 'BD 2-3',\n",
    "       'BD 5-6', 'BD 2-7', 'BD 5-8', 'BD 7-8', 'A1-2-3', 'A4-5-6', 'A3-2-7',\n",
    "       'A6-5-8', 'A1-2-7', 'A4-5-8', 'A2-7-8', 'A5-8-7', 'D1-2-7-8',\n",
    "       'D4-5-8-7', 'D3-2-7-8', 'D6-5-8-7', 'D2-7-8-5', 'Non Bond 1-3',\n",
    "       'Non Bond 4-6', 'Non Bond 3-6', 'Vib F 7-8', 'Vib F 2-3', 'Vib F 5-6',\n",
    "       'Vib I 7-8', 'Vib I 2-3', 'Vib I 5-6', 'NMR 1', 'NMR 2', 'NMR 3',\n",
    "       'NMR 4', 'NMR 5', 'NMR 6', 'NMR 7 ', 'NMR 8', 'q 1', 'q 2', 'q 3',\n",
    "       'q 4', 'q 5', 'q 6', 'q 7 ', 'q 8', 'HOMO E', 'LUMO E', 'Area',\n",
    "       'Polar SA', 'Volume', ' Ovality', 'Mol. Wt.', 'Dipole M', 'RCx', 'Rcy',\n",
    "       'RCz', 'L1 (R1)', 'B1 (R1)', 'B5 (R1)', 'L1 (R2)', 'B1 (R2)', 'B5 (R2)'], keep='first')\n",
    "\n",
    "num_duplicates = duplicates.sum()\n",
    "num_non_duplicates = len(all_df) - num_duplicates\n",
    "\n",
    "print(f\"Number of duplicates: {num_duplicates}\")\n",
    "print(f\"Number of non-duplicates: {num_non_duplicates}\")\n"
   ]
  },
  {
   "cell_type": "code",
   "execution_count": null,
   "id": "a6d93a22",
   "metadata": {
    "ExecuteTime": {
     "end_time": "2024-03-09T14:57:16.293199Z",
     "start_time": "2024-03-09T14:57:16.286214Z"
    },
    "tags": []
   },
   "outputs": [],
   "source": [
    "all_df['New Ligand'].nunique()"
   ]
  },
  {
   "cell_type": "code",
   "execution_count": null,
   "id": "fd6b685d",
   "metadata": {
    "ExecuteTime": {
     "end_time": "2024-03-03T09:51:27.238307Z",
     "start_time": "2024-03-03T09:51:27.167924Z"
    },
    "scrolled": true,
    "tags": []
   },
   "outputs": [],
   "source": [
    "all_df[['New Ligand', 'BD 1-2', 'BD 4-5', 'BD 2-3',\n",
    "       'BD 5-6', 'BD 2-7', 'BD 5-8', 'BD 7-8', 'A1-2-3', 'A4-5-6', 'A3-2-7',\n",
    "       'A6-5-8', 'A1-2-7', 'A4-5-8', 'A2-7-8', 'A5-8-7', 'D1-2-7-8',\n",
    "       'D4-5-8-7', 'D3-2-7-8', 'D6-5-8-7', 'D2-7-8-5', 'Non Bond 1-3',\n",
    "       'Non Bond 4-6', 'Non Bond 3-6', 'Vib F 7-8', 'Vib F 2-3', 'Vib F 5-6',\n",
    "       'Vib I 7-8', 'Vib I 2-3', 'Vib I 5-6', 'NMR 1', 'NMR 2', 'NMR 3',\n",
    "       'NMR 4', 'NMR 5', 'NMR 6', 'NMR 7 ', 'NMR 8', 'q 1', 'q 2', 'q 3',\n",
    "       'q 4', 'q 5', 'q 6', 'q 7 ', 'q 8', 'HOMO E', 'LUMO E', 'Area',\n",
    "       'Polar SA', 'Volume', ' Ovality', 'Mol. Wt.', 'Dipole M', 'RCx', 'Rcy',\n",
    "       'RCz', 'L1 (R1)', 'B1 (R1)', 'B5 (R1)', 'L1 (R2)', 'B1 (R2)', 'B5 (R2)']].drop_duplicates()"
   ]
  },
  {
   "cell_type": "markdown",
   "id": "e42a72cc",
   "metadata": {},
   "source": [
    "### Making dataset"
   ]
  },
  {
   "cell_type": "code",
   "execution_count": null,
   "id": "a016aee4-614e-408d-9556-794e6a94a536",
   "metadata": {
    "tags": []
   },
   "outputs": [],
   "source": [
    "ligand_df = all_df[['New Ligand', 'BD 1-2', 'BD 4-5', 'BD 2-3',\n",
    "       'BD 5-6', 'BD 2-7', 'BD 5-8', 'BD 7-8', 'A1-2-3', 'A4-5-6', 'A3-2-7',\n",
    "       'A6-5-8', 'A1-2-7', 'A4-5-8', 'A2-7-8', 'A5-8-7', 'D1-2-7-8',\n",
    "       'D4-5-8-7', 'D3-2-7-8', 'D6-5-8-7', 'D2-7-8-5', 'Non Bond 1-3',\n",
    "       'Non Bond 4-6', 'Non Bond 3-6', 'Vib F 7-8', 'Vib F 2-3', 'Vib F 5-6',\n",
    "       'Vib I 7-8', 'Vib I 2-3', 'Vib I 5-6', 'NMR 1', 'NMR 2', 'NMR 3',\n",
    "       'NMR 4', 'NMR 5', 'NMR 6', 'NMR 7 ', 'NMR 8', 'q 1', 'q 2', 'q 3',\n",
    "       'q 4', 'q 5', 'q 6', 'q 7 ', 'q 8', 'HOMO E', 'LUMO E', 'Area',\n",
    "       'Polar SA', 'Volume', ' Ovality', 'Mol. Wt.', 'Dipole M', 'RCx', 'Rcy',\n",
    "       'RCz', 'L1 (R1)', 'B1 (R1)', 'B5 (R1)', 'L1 (R2)', 'B1 (R2)', 'B5 (R2)']].drop_duplicates()\n",
    "\n",
    "substrate_df = all_df[['New Substrate', 'S_BD 1-2', 'S_BD 3-4', 'S_Vib F 1-2', 'S_Vib F 3-4', 'S_Vib I 1-2',\n",
    "       'S_Vib I 3-4', 'S_q 1', 'S_q 2', 'S_q 3', 'S_q 4', 'S_NMR 1', 'S_NMR 2',\n",
    "       'S_NMR 3', 'S_NMR 4', 'S_HOMO E', 'S_LUMO E', 'S_Area', 'S_Polar SA',\n",
    "       'S_Volume', 'S_ Ovality', 'S_Mol. Wt.', 'S_Dipole M', 'S_RCx', 'S_Rcy',\n",
    "       'S_RCz', 'S_L1 (R1)', 'S_B1 (R1)', 'S_B5 (R1)', 'S_L1 (R2)',\n",
    "       'S_B1 (R2)', 'S_B5 (R2)']].drop_duplicates()\n",
    "substrate_df.sort_values('New Substrate')"
   ]
  },
  {
   "cell_type": "code",
   "execution_count": null,
   "id": "255692e8",
   "metadata": {
    "ExecuteTime": {
     "end_time": "2024-03-03T09:55:57.792665Z",
     "start_time": "2024-03-03T09:55:42.625951Z"
    },
    "tags": []
   },
   "outputs": [],
   "source": [
    "%%time\n",
    "\n",
    "list1 = list(all_df['New Ligand'].unique())\n",
    "list2 = list(all_df['New Substrate'].unique())\n",
    "list3 = list(all_df['CO Pressure (atm)'].unique())\n",
    "list4 = list(all_df['Solvent '].unique())\n",
    "list5 = list(all_df['Temperature (oC)'].unique())\n",
    "\n",
    "combinations = list(product(list1, list2, list3, list4, list5))\n",
    "\n",
    "df = pd.DataFrame(combinations, columns=['New Ligand', 'New Substrate', 'CO Pressure (atm)', 'Solvent ', 'Temperature (oC)'])\n",
    "\n",
    "df['Reaction ID (L-S-atm-Sol-Celcius)'] = df.apply(lambda row: f\"{row['New Ligand']}-{row['New Substrate']}-{row['CO Pressure (atm)']}-{row['Solvent ']}-{row['Temperature (oC)']}\", axis=1)\n",
    "\n",
    "new_column_name = 'Reaction ID (L-S-atm-Sol-Celcius)'\n",
    "df = df[[new_column_name] + [col for col in df.columns if col != new_column_name]]\n",
    "\n",
    "df"
   ]
  },
  {
   "cell_type": "code",
   "execution_count": null,
   "id": "f5eb9cf3",
   "metadata": {
    "ExecuteTime": {
     "end_time": "2024-03-03T09:55:57.844846Z",
     "start_time": "2024-03-03T09:55:57.844846Z"
    },
    "tags": []
   },
   "outputs": [],
   "source": [
    "duplicates = df.duplicated(subset=['Reaction ID (L-S-atm-Sol-Celcius)', 'New Ligand', 'New Substrate',\n",
    "       'CO Pressure (atm)', 'Solvent ', 'Temperature (oC)'], keep=False)\n",
    "num_duplicates = duplicates.sum()\n",
    "num_non_duplicates = len(df) - num_duplicates\n",
    "\n",
    "print(f\"Number of duplicates: {num_duplicates}\")\n",
    "print(f\"Number of non-duplicates: {num_non_duplicates}\")\n"
   ]
  },
  {
   "cell_type": "code",
   "execution_count": null,
   "id": "78b2b0ea",
   "metadata": {
    "ExecuteTime": {
     "end_time": "2024-03-03T10:06:07.459544Z",
     "start_time": "2024-03-03T10:06:06.948125Z"
    },
    "tags": []
   },
   "outputs": [],
   "source": [
    "result = df.merge(ligand_df.drop_duplicates('New Ligand'), on='New Ligand', how='left')\n",
    "result = result.merge(substrate_df.drop_duplicates('New Substrate'), on='New Substrate', how='left')\n",
    "result.shape"
   ]
  },
  {
   "cell_type": "code",
   "execution_count": null,
   "id": "f5f30ceb",
   "metadata": {
    "ExecuteTime": {
     "end_time": "2024-03-03T10:21:26.678991Z",
     "start_time": "2024-03-03T10:07:09.962619Z"
    }
   },
   "outputs": [],
   "source": [
    "%%time\n",
    "result.to_csv(r'reaction discovery/all_reactions_possible_dataset_v2.csv', index=False)"
   ]
  },
  {
   "cell_type": "markdown",
   "id": "c5c4e085",
   "metadata": {
    "heading_collapsed": true
   },
   "source": [
    "# Functions"
   ]
  },
  {
   "cell_type": "code",
   "execution_count": null,
   "id": "d90c04aa",
   "metadata": {
    "hidden": true,
    "tags": []
   },
   "outputs": [],
   "source": [
    "def data_preprocess(all_df):\n",
    "    real_df = all_df[~all_df['Ligand'].isin(train_exclude)]\n",
    "    oob_all_df=all_df[all_df['Ligand'].isin(oob_ligands)]\n",
    "    print('Train Ligands:\\n', real_df.Ligand.value_counts())\n",
    "    print('---------------------------------------------------------------')\n",
    "    print('OOB Ligands:\\n', oob_all_df.Ligand.value_counts())\n",
    "    print('---------------------------------------------------------------')\n",
    "    real_df=real_df.iloc[:,3:]\n",
    "    #print(real_df.head(1))\n",
    "    return real_df, oob_all_df"
   ]
  },
  {
   "cell_type": "code",
   "execution_count": null,
   "id": "c6dac03b",
   "metadata": {
    "ExecuteTime": {
     "end_time": "2024-03-03T10:43:12.014120Z",
     "start_time": "2024-03-03T10:43:12.001595Z"
    },
    "hidden": true,
    "tags": []
   },
   "outputs": [],
   "source": [
    "def smote_requirement(real_df, smote_required = True,smote=1):\n",
    "    real_df['class']=np.where(real_df['Output (ee)%']>70,1,0)\n",
    "    print('Real distribution (>70 is 1): \\n', real_df['class'].value_counts())\n",
    "    print('Real dataset: ', real_df.shape)\n",
    "    minority_df=real_df[real_df['class']==0]\n",
    "    X=real_df.iloc[:,:-1]\n",
    "    y=real_df.iloc[:,-1]\n",
    "    if smote_required == True:\n",
    "        if  smote==1:\n",
    "            sm = BorderlineSMOTE(random_state=2, kind = 'borderline-2')\n",
    "            X_res, y_res = sm.fit_resample(X, y)\n",
    "\n",
    "        elif smote==2:\n",
    "            svm = SVMSMOTE(random_state=2)\n",
    "            X_res, y_res = svm.fit_resample(X, y)\n",
    "            \n",
    "        elif smote==3:\n",
    "            \n",
    "            km = KMeansSMOTE(random_state=2)\n",
    "            X_res, y_res = km.fit_resample(X, y)\n",
    "        \n",
    "        elif smote==4:\n",
    "            ada = ADASYN(random_state=2)\n",
    "            X_res, y_res = ada.fit_resample(X, y)\n",
    "        \n",
    "        print('SMOTE distribution (>70 is 1): \\n', y_res.value_counts())\n",
    "        print('SMOTE dataset: ', X_res.shape)\n",
    "        X = X_res\n",
    "        y = y_res\n",
    "    else:\n",
    "        pass\n",
    "\n",
    "    return minority_df, X, y\n",
    "\n"
   ]
  },
  {
   "cell_type": "code",
   "execution_count": null,
   "id": "d1445b5a",
   "metadata": {
    "ExecuteTime": {
     "end_time": "2024-03-03T11:17:25.299937Z",
     "start_time": "2024-03-03T11:17:25.292071Z"
    },
    "hidden": true,
    "tags": []
   },
   "outputs": [],
   "source": [
    "def data_split_scaling(X, random_state):\n",
    "    X_org=X.iloc[:,:-1]\n",
    "    y_org=X.iloc[:,-1]\n",
    "    X_train, X_test, y_train, y_test = train_test_split(X_org, y_org, test_size=0.2, random_state=random_state)\n",
    "    \n",
    "    return X_train, X_test, y_train, y_test"
   ]
  },
  {
   "cell_type": "code",
   "execution_count": null,
   "id": "29ddbe61",
   "metadata": {
    "ExecuteTime": {
     "end_time": "2024-03-03T11:22:53.463516Z",
     "start_time": "2024-03-03T11:22:53.443371Z"
    },
    "code_folding": [],
    "hidden": true,
    "tags": []
   },
   "outputs": [],
   "source": [
    "def xgboost_model(X_train, X_test, y_train, y_test,\n",
    "                  parameters_xgb, random_state, cv, early_stop , early_stop_rounds, reaction_df ):\n",
    "\n",
    "    xgb1 = XGBRegressor(random_state=random_state)\n",
    "    xgb_grid = GridSearchCV(xgb1,\n",
    "                        parameters_xgb,\n",
    "                        cv = cv,\n",
    "                        n_jobs = -1,\n",
    "                        verbose=True)\n",
    "    if early_stop == True:\n",
    "        xgb_grid.fit(X_train, y_train,  early_stopping_rounds=early_stop_rounds, eval_set=[(X_test, y_test)])\n",
    "    else:\n",
    "        xgb_grid.fit(X_train, y_train)\n",
    "    print('Best model score: ', xgb_grid.best_score_)\n",
    "    print('Best model parameters: ', xgb_grid.best_params_)\n",
    "\n",
    "    prediction_train = xgb_grid.predict(X_train)\n",
    "    # Predict on test data\n",
    "    prediction = xgb_grid.predict(X_test)\n",
    "    # Compute mean squared error\n",
    "    mse_train = mean_squared_error(y_train, prediction_train, squared = False)\n",
    "    mse_test = mean_squared_error(y_test, prediction, squared = False)\n",
    "\n",
    "    print('Train RMSE: ', mse_train)\n",
    "    print('Test RMSE: ', mse_test)\n",
    "    \n",
    "\n",
    "    prediction_oob = xgb_grid.predict(reaction_df)\n",
    "\n",
    "    oob_df_predict = reaction_df.copy()\n",
    "    oob_df_predict['prediction'] = prediction_oob\n",
    "    \n",
    "    return xgb_grid, mse_train, mse_test, xgb_grid.best_params_, oob_df_predict"
   ]
  },
  {
   "cell_type": "markdown",
   "id": "396e7623",
   "metadata": {},
   "source": [
    "# Modelling"
   ]
  },
  {
   "cell_type": "markdown",
   "id": "f619b809",
   "metadata": {
    "heading_collapsed": true
   },
   "source": [
    "## Data reading"
   ]
  },
  {
   "cell_type": "code",
   "execution_count": null,
   "id": "d9d9203d",
   "metadata": {
    "ExecuteTime": {
     "end_time": "2024-03-03T10:28:47.023508Z",
     "start_time": "2024-03-03T10:28:46.029091Z"
    },
    "hidden": true,
    "tags": []
   },
   "outputs": [],
   "source": [
    "all_df=pd.read_excel(r\"Datasheet.xlsx\")\n",
    "print(all_df.shape)\n",
    "all_df.head()"
   ]
  },
  {
   "cell_type": "code",
   "execution_count": null,
   "id": "a08380bd",
   "metadata": {
    "ExecuteTime": {
     "end_time": "2024-03-03T10:58:32.744424Z",
     "start_time": "2024-03-03T10:58:32.323027Z"
    },
    "hidden": true,
    "tags": []
   },
   "outputs": [],
   "source": [
    "reaction_df=result.copy()\n",
    "print(reaction_df.shape)\n",
    "reaction_df.head(2)"
   ]
  },
  {
   "cell_type": "code",
   "execution_count": null,
   "id": "65f300ab",
   "metadata": {
    "ExecuteTime": {
     "end_time": "2024-03-03T11:11:53.244260Z",
     "start_time": "2024-03-03T11:11:53.115685Z"
    },
    "hidden": true,
    "tags": []
   },
   "outputs": [],
   "source": [
    "reaction_df.reset_index(inplace=True)\n",
    "needed_columns = ['BD 1-2', 'BD 4-5', 'BD 2-3',\n",
    "       'BD 5-6', 'BD 2-7', 'BD 5-8', 'BD 7-8', 'A1-2-3', 'A4-5-6', 'A3-2-7',\n",
    "       'A6-5-8', 'A1-2-7', 'A4-5-8', 'A2-7-8', 'A5-8-7', 'D1-2-7-8',\n",
    "       'D4-5-8-7', 'D3-2-7-8', 'D6-5-8-7', 'D2-7-8-5', 'Non Bond 1-3',\n",
    "       'Non Bond 4-6', 'Non Bond 3-6', 'Vib F 7-8', 'Vib F 2-3', 'Vib F 5-6',\n",
    "       'Vib I 7-8', 'Vib I 2-3', 'Vib I 5-6', 'NMR 1', 'NMR 2', 'NMR 3',\n",
    "       'NMR 4', 'NMR 5', 'NMR 6', 'NMR 7 ', 'NMR 8', 'q 1', 'q 2', 'q 3',\n",
    "       'q 4', 'q 5', 'q 6', 'q 7 ', 'q 8', 'HOMO E', 'LUMO E', 'Area',\n",
    "       'Polar SA', 'Volume', ' Ovality', 'Mol. Wt.', 'Dipole M', 'RCx', 'Rcy',\n",
    "       'RCz', 'L1 (R1)', 'B1 (R1)', 'B5 (R1)', 'L1 (R2)', 'B1 (R2)', 'B5 (R2)',\n",
    "       'S_BD 1-2', 'S_BD 3-4', 'S_Vib F 1-2', 'S_Vib F 3-4', 'S_Vib I 1-2',\n",
    "       'S_Vib I 3-4', 'S_q 1', 'S_q 2', 'S_q 3', 'S_q 4', 'S_NMR 1', 'S_NMR 2',\n",
    "       'S_NMR 3', 'S_NMR 4', 'S_HOMO E', 'S_LUMO E', 'S_Area', 'S_Polar SA',\n",
    "       'S_Volume', 'S_ Ovality', 'S_Mol. Wt.', 'S_Dipole M', 'S_RCx', 'S_Rcy',\n",
    "       'S_RCz', 'S_L1 (R1)', 'S_B1 (R1)', 'S_B5 (R1)', 'S_L1 (R2)',\n",
    "       'S_B1 (R2)', 'S_B5 (R2)', 'CO Pressure (atm)', 'Solvent ',\n",
    "       'Temperature (oC)']\n",
    "reaction_df = reaction_df[needed_columns]\n",
    "all_df = all_df[needed_columns+['Output (ee)%']]"
   ]
  },
  {
   "cell_type": "markdown",
   "id": "559244c4",
   "metadata": {
    "heading_collapsed": true,
    "tags": []
   },
   "source": [
    "## Training model on all reactions (80:20)"
   ]
  },
  {
   "cell_type": "markdown",
   "id": "22ecc387",
   "metadata": {
    "hidden": true
   },
   "source": [
    "### K means"
   ]
  },
  {
   "cell_type": "markdown",
   "id": "9f07c59a",
   "metadata": {
    "hidden": true
   },
   "source": [
    "#### XGB "
   ]
  },
  {
   "cell_type": "code",
   "execution_count": null,
   "id": "d3abc0cb",
   "metadata": {
    "hidden": true,
    "tags": []
   },
   "outputs": [],
   "source": [
    "\"\"\"\n",
    "1: Borderline 2\n",
    "2: SVM\n",
    "3: Kmeans\n",
    "4: Adasyn\n",
    "\n",
    "\"\"\"\n",
    "minority_df, X, y = smote_requirement(all_df, smote_required = True,smote=3)\n",
    "X.head(1)"
   ]
  },
  {
   "cell_type": "code",
   "execution_count": null,
   "id": "b3c60a56",
   "metadata": {
    "hidden": true,
    "tags": []
   },
   "outputs": [],
   "source": [
    "X_train, X_test, y_train, y_test = data_split_scaling(X, random_state=660)\n",
    "\n",
    "parameters_xgb = {'colsample_bytree': [0.7], 'gamma': [0.5], 'learning_rate': [0.03], 'max_depth': [6], 'min_child_weight': [4], 'n_estimators': [500], 'objective': ['reg:squarederror'], 'reg_alpha': [0.5], 'reg_lambda': [0.3], 'subsample': [0.3]}\n",
    "xgb_grid, mse_train, mse_test, parameters, reaction_df_predicted = xgboost_model(X_train, X_test, y_train, y_test, parameters_xgb,\n",
    "                                                                   random_state=660, cv = 5, early_stop = False ,early_stop_rounds = 5 , \n",
    "                                                                   reaction_df = reaction_df)"
   ]
  }
 ],
 "metadata": {
  "kernelspec": {
   "display_name": "Python 3 (ipykernel)",
   "language": "python",
   "name": "python3"
  },
  "language_info": {
   "codemirror_mode": {
    "name": "ipython",
    "version": 3
   },
   "file_extension": ".py",
   "mimetype": "text/x-python",
   "name": "python",
   "nbconvert_exporter": "python",
   "pygments_lexer": "ipython3",
   "version": "3.11.7"
  },
  "toc": {
   "base_numbering": 1,
   "nav_menu": {},
   "number_sections": true,
   "sideBar": true,
   "skip_h1_title": false,
   "title_cell": "Table of Contents",
   "title_sidebar": "Contents",
   "toc_cell": false,
   "toc_position": {},
   "toc_section_display": true,
   "toc_window_display": false
  },
  "varInspector": {
   "cols": {
    "lenName": 16,
    "lenType": 16,
    "lenVar": 40
   },
   "kernels_config": {
    "python": {
     "delete_cmd_postfix": "",
     "delete_cmd_prefix": "del ",
     "library": "var_list.py",
     "varRefreshCmd": "print(var_dic_list())"
    },
    "r": {
     "delete_cmd_postfix": ") ",
     "delete_cmd_prefix": "rm(",
     "library": "var_list.r",
     "varRefreshCmd": "cat(var_dic_list()) "
    }
   },
   "types_to_exclude": [
    "module",
    "function",
    "builtin_function_or_method",
    "instance",
    "_Feature"
   ],
   "window_display": false
  }
 },
 "nbformat": 4,
 "nbformat_minor": 5
}
