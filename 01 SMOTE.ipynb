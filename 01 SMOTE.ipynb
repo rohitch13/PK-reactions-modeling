{
 "cells": [
  {
   "cell_type": "code",
   "execution_count": null,
   "id": "93604085",
   "metadata": {
    "ExecuteTime": {
     "end_time": "2024-03-03T08:38:59.408128Z",
     "start_time": "2024-03-03T08:38:52.974971Z"
    },
    "tags": []
   },
   "outputs": [],
   "source": [
    "import pandas as pd\n",
    "import numpy as np\n",
    "from imblearn.over_sampling import BorderlineSMOTE, SVMSMOTE, KMeansSMOTE, ADASYN\n",
    "from matplotlib import pyplot as plt\n",
    "import warnings\n",
    "warnings.simplefilter(\"ignore\")\n",
    "from sklearn.ensemble import RandomForestRegressor, RandomForestClassifier\n",
    "from sklearn.metrics import mean_squared_error, r2_score, accuracy_score\n",
    "from hyperopt import fmin, tpe, hp, STATUS_OK, Trials\n",
    "from hyperopt.pyll import scope\n",
    "from hyperopt.pyll.stochastic import sample\n",
    "import math\n",
    "from sklearn.model_selection import GridSearchCV, ParameterGrid, train_test_split, cross_val_score\n",
    "import re\n",
    "import seaborn as sns\n",
    "from scipy.stats import chi2_contingency\n",
    "from subprocess import check_output\n",
    "from joblib.logger import pprint\n",
    "from sklearn.preprocessing import StandardScaler, PolynomialFeatures\n",
    "import xgboost as xgb\n",
    "from xgboost.sklearn import XGBRegressor\n",
    "\n",
    "%matplotlib inline\n"
   ]
  },
  {
   "cell_type": "markdown",
   "id": "72ca0ae8",
   "metadata": {},
   "source": [
    "# 1.0 Data load"
   ]
  },
  {
   "cell_type": "code",
   "execution_count": null,
   "id": "391000f9",
   "metadata": {
    "ExecuteTime": {
     "end_time": "2024-03-03T08:39:43.228691Z",
     "start_time": "2024-03-03T08:39:41.448410Z"
    }
   },
   "outputs": [],
   "source": [
    "all_df=pd.read_excel(\"Datasheet.xlsx\")"
   ]
  },
  {
   "cell_type": "code",
   "execution_count": null,
   "id": "5ff6ee58",
   "metadata": {
    "ExecuteTime": {
     "end_time": "2024-03-03T08:39:44.810425Z",
     "start_time": "2024-03-03T08:39:44.762509Z"
    }
   },
   "outputs": [],
   "source": [
    "print(all_df.shape)\n",
    "all_df.head(1)"
   ]
  },
  {
   "cell_type": "markdown",
   "id": "aeae8cae",
   "metadata": {
    "heading_collapsed": true
   },
   "source": [
    "# Functions"
   ]
  },
  {
   "cell_type": "code",
   "execution_count": null,
   "id": "ed0b330d",
   "metadata": {
    "ExecuteTime": {
     "end_time": "2024-03-03T08:39:29.703017Z",
     "start_time": "2024-03-03T08:39:29.697245Z"
    },
    "hidden": true
   },
   "outputs": [],
   "source": [
    "def data_preprocess(all_df):\n",
    "    real_df = all_df[~all_df['Ligand'].isin(train_exclude)]\n",
    "    oob_all_df=all_df[all_df['Ligand'].isin(oob_ligands)]\n",
    "    print('Train Ligands:\\n', real_df.Ligand.value_counts())\n",
    "    print('---------------------------------------------------------------')\n",
    "    print('OOB Ligands:\\n', oob_all_df.Ligand.value_counts())\n",
    "    print('---------------------------------------------------------------')\n",
    "    real_df=real_df.iloc[:,3:]\n",
    "    #print(real_df.head(1))\n",
    "    return real_df, oob_all_df"
   ]
  },
  {
   "cell_type": "code",
   "execution_count": null,
   "id": "e0b0b3ba",
   "metadata": {
    "ExecuteTime": {
     "end_time": "2024-03-03T08:39:01.382417Z",
     "start_time": "2024-03-03T08:39:01.357628Z"
    },
    "hidden": true
   },
   "outputs": [],
   "source": [
    "def smote_requirement(real_df, oob_all_df, smote_required = True,smote=1):\n",
    "    real_df['class']=np.where(real_df['Output (ee)%']>70,1,0)\n",
    "    print('Real distribution (>70 is 1): \\n', real_df['class'].value_counts())\n",
    "    print('Real dataset: ', real_df.shape)\n",
    "    minority_df=real_df[real_df['class']==0]\n",
    "    X=real_df.iloc[:,:-1]\n",
    "    y=real_df.iloc[:,-1]\n",
    "    if smote_required == True:\n",
    "        if  smote==1:\n",
    "            sm = BorderlineSMOTE(random_state=2, kind = 'borderline-2')\n",
    "            X_res, y_res = sm.fit_resample(X, y)\n",
    "\n",
    "        elif smote==2:\n",
    "            svm = SVMSMOTE(random_state=2)\n",
    "            X_res, y_res = svm.fit_resample(X, y)\n",
    "            \n",
    "        elif smote==3:\n",
    "            \n",
    "            km = KMeansSMOTE(random_state=2)\n",
    "            X_res, y_res = km.fit_resample(X, y)\n",
    "        \n",
    "        elif smote==4:\n",
    "            ada = ADASYN(random_state=2)\n",
    "            X_res, y_res = ada.fit_resample(X, y)\n",
    "        \n",
    "        print('SMOTE distribution (>70 is 1): \\n', y_res.value_counts())\n",
    "        print('SMOTE dataset: ', X_res.shape)\n",
    "        X = X_res\n",
    "        y = y_res\n",
    "    else:\n",
    "        pass\n",
    "    oob_df=oob_all_df.iloc[:,3:]\n",
    "    print('OOB dataset: ', oob_df.shape)\n",
    "    X_oob=oob_df.iloc[:,:-1]\n",
    "    y_oob=oob_df.iloc[:,-1]\n",
    "    return minority_df, X, y, oob_df, X_oob, y_oob\n",
    "\n"
   ]
  },
  {
   "cell_type": "code",
   "execution_count": null,
   "id": "25cdae80",
   "metadata": {
    "ExecuteTime": {
     "end_time": "2024-03-03T08:39:02.094871Z",
     "start_time": "2024-03-03T08:39:02.085615Z"
    },
    "hidden": true
   },
   "outputs": [],
   "source": [
    "def data_split_scaling(X, random_state):\n",
    "    X_org=X.iloc[:,:-1]\n",
    "    y_org=X.iloc[:,-1]\n",
    "    X_train, X_test, y_train, y_test = train_test_split(X_org, y_org, test_size=0.2, random_state=random_split)\n",
    "    print('X_train: \\n', X_train.shape, '\\nX_test: \\n', X_test.shape, '\\ny_train: \\n', y_train.shape, '\\ny_test: \\n', y_test.shape)\n",
    "    return X_train, X_test, y_train, y_test"
   ]
  },
  {
   "cell_type": "code",
   "execution_count": null,
   "id": "635f0fdb",
   "metadata": {
    "ExecuteTime": {
     "end_time": "2024-03-03T08:39:03.289202Z",
     "start_time": "2024-03-03T08:39:03.270661Z"
    },
    "hidden": true
   },
   "outputs": [],
   "source": [
    "def xgboost_model(X_train, X_test, y_train, y_test,\n",
    "                  parameters_xgb, cv, early_stop , early_stop_rounds, X_oob , y_oob, oob_all_df ):\n",
    "\n",
    "    xgb1 = XGBRegressor(random_state=0)\n",
    "    xgb_grid = GridSearchCV(xgb1,\n",
    "                        parameters_xgb,\n",
    "                        cv = cv,\n",
    "                        n_jobs = -1,\n",
    "                        verbose=True)\n",
    "    if early_stop == True:\n",
    "        xgb_grid.fit(X_train, y_train,  early_stopping_rounds=early_stop_rounds, eval_set=[(X_test, y_test)])\n",
    "    else:\n",
    "        xgb_grid.fit(X_train, y_train)\n",
    "    print('Best model score: ', xgb_grid.best_score_)\n",
    "    print('Best model parameters: ', xgb_grid.best_params_)\n",
    "\n",
    "    prediction_train = xgb_grid.predict(X_train)\n",
    "    # Predict on test data\n",
    "    prediction = xgb_grid.predict(X_test)\n",
    "    # Compute mean squared error\n",
    "    mse_train = mean_squared_error(y_train, prediction_train, squared = False)\n",
    "    mse_test = mean_squared_error(y_test, prediction, squared = False)\n",
    "    \n",
    "\n",
    "    print('Train RMSE: ', mse_train)\n",
    "    print('Test RMSE: ', mse_test)\n",
    "    \n",
    "    # Predict on oob data\n",
    "    prediction_oob = xgb_grid.predict(X_oob)\n",
    "    # Compute mean squared error\n",
    "    mse_oob = mean_squared_error(y_oob, prediction_oob, squared = False)\n",
    "    print('OOB RMSE: ', mse_oob)\n",
    "\n",
    "    oob_df_predict = oob_all_df.copy()\n",
    "    oob_df_predict['prediction'] = prediction_oob\n",
    "    \n",
    "    def r2_rmse(g):\n",
    "        r2 = r2_score(g['Output (ee)%'], g['prediction'])\n",
    "        rmse = np.sqrt(mean_squared_error(g['Output (ee)%'], g['prediction'], squared = False))\n",
    "        return pd.Series(dict(rmse = rmse))\n",
    "    \n",
    "\n",
    "    print('OOB RMSE at Ligand level: \\n', oob_df_predict.groupby('Ligand').apply(r2_rmse).reset_index())\n",
    "    \n",
    "    return xgb_grid"
   ]
  },
  {
   "cell_type": "markdown",
   "id": "c00b774a",
   "metadata": {},
   "source": [
    "# Preprocessing"
   ]
  },
  {
   "cell_type": "code",
   "execution_count": null,
   "id": "eeb79196",
   "metadata": {
    "ExecuteTime": {
     "end_time": "2024-03-03T08:43:43.908031Z",
     "start_time": "2024-03-03T08:43:43.899564Z"
    }
   },
   "outputs": [],
   "source": [
    "oob_ligands = ['L13','L14', 'L15']\n",
    "train_exclude = oob_ligands "
   ]
  },
  {
   "cell_type": "code",
   "execution_count": null,
   "id": "d8395fbd",
   "metadata": {
    "ExecuteTime": {
     "end_time": "2024-03-03T08:43:44.532370Z",
     "start_time": "2024-03-03T08:43:44.509445Z"
    },
    "tags": []
   },
   "outputs": [],
   "source": [
    "real_df, oob_all_df = data_preprocess(all_df)"
   ]
  },
  {
   "cell_type": "code",
   "execution_count": null,
   "id": "06915ba9",
   "metadata": {
    "ExecuteTime": {
     "end_time": "2024-03-03T08:43:47.960703Z",
     "start_time": "2024-03-03T08:43:47.486330Z"
    }
   },
   "outputs": [],
   "source": [
    "\"\"\"\n",
    "1: Borderline 2\n",
    "2: SVM\n",
    "3: Kmeans\n",
    "4: Adasyn\n",
    "\n",
    "\"\"\"\n",
    "minority_df, X, y, oob_df, X_oob, y_oob = smote_requirement(real_df, oob_all_df, \n",
    "                                                            smote_required = True,smote=3)"
   ]
  },
  {
   "cell_type": "code",
   "execution_count": null,
   "id": "fe498454",
   "metadata": {},
   "outputs": [],
   "source": [
    "random_split = 42\n",
    "X_train, X_test, y_train, y_test = data_split_scaling(X, random_state=random_split)"
   ]
  },
  {
   "cell_type": "code",
   "execution_count": null,
   "id": "d152851f",
   "metadata": {},
   "outputs": [],
   "source": [
    "%%time\n",
    "\n",
    "parameters_xgb = {'gamma':[3],\n",
    "              'objective':['reg:squarederror'],\n",
    "              'learning_rate': [.03, 0.05], \n",
    "              'max_depth': [5, 6,15],\n",
    "              'min_child_weight': [4],\n",
    "              'subsample': [0.3, 0.5, 0.9],\n",
    "              'colsample_bytree': [0.7],\n",
    "              'n_estimators': [500]}\n",
    "\n",
    "pg=ParameterGrid(parameters_xgb)\n",
    "print(len(pg))\n",
    "\n",
    "xgb_grid = xgboost_model(X_train, X_test, y_train, y_test,\n",
    "                                          parameters_xgb, cv = 5, early_stop = False ,early_stop_rounds = 5 , X_oob = X_oob, y_oob = y_oob, oob_all_df = oob_all_df)"
   ]
  }
 ],
 "metadata": {
  "kernelspec": {
   "display_name": "Python 3 (ipykernel)",
   "language": "python",
   "name": "python3"
  },
  "language_info": {
   "codemirror_mode": {
    "name": "ipython",
    "version": 3
   },
   "file_extension": ".py",
   "mimetype": "text/x-python",
   "name": "python",
   "nbconvert_exporter": "python",
   "pygments_lexer": "ipython3",
   "version": "3.11.7"
  },
  "toc": {
   "base_numbering": 1,
   "nav_menu": {},
   "number_sections": true,
   "sideBar": true,
   "skip_h1_title": false,
   "title_cell": "Table of Contents",
   "title_sidebar": "Contents",
   "toc_cell": false,
   "toc_position": {},
   "toc_section_display": true,
   "toc_window_display": false
  },
  "varInspector": {
   "cols": {
    "lenName": 16,
    "lenType": 16,
    "lenVar": 40
   },
   "kernels_config": {
    "python": {
     "delete_cmd_postfix": "",
     "delete_cmd_prefix": "del ",
     "library": "var_list.py",
     "varRefreshCmd": "print(var_dic_list())"
    },
    "r": {
     "delete_cmd_postfix": ") ",
     "delete_cmd_prefix": "rm(",
     "library": "var_list.r",
     "varRefreshCmd": "cat(var_dic_list()) "
    }
   },
   "types_to_exclude": [
    "module",
    "function",
    "builtin_function_or_method",
    "instance",
    "_Feature"
   ],
   "window_display": false
  }
 },
 "nbformat": 4,
 "nbformat_minor": 5
}
